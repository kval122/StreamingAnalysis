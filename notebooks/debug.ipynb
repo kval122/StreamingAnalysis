{
 "cells": [
  {
   "cell_type": "markdown",
   "metadata": {},
   "source": [
    "# Load in data"
   ]
  },
  {
   "cell_type": "code",
   "execution_count": 1,
   "metadata": {},
   "outputs": [],
   "source": [
    "# Import Libraries\n",
    "\n",
    "import pandas as pd\n",
    "import os\n",
    "import matplotlib.pyplot as plt\n",
    "import seaborn as sns"
   ]
  },
  {
   "cell_type": "code",
   "execution_count": 2,
   "metadata": {},
   "outputs": [],
   "source": [
    "import sys\n",
    "sys.path.append(r\"C:\\Users\\kimbe\\Documents\\StreamingAnalysis\\scripts\")  # Corrected path\n",
    "# Set to show all rows and columns\n",
    "pd.set_option('display.max_rows', None)\n",
    "pd.set_option('display.max_columns', None)"
   ]
  },
  {
   "cell_type": "code",
   "execution_count": 3,
   "metadata": {},
   "outputs": [],
   "source": [
    "# Import custom scripts\n",
    "\n",
    "from utils import *\n",
    "from explore import *\n"
   ]
  },
  {
   "cell_type": "code",
   "execution_count": 4,
   "metadata": {},
   "outputs": [],
   "source": [
    "# Define the base path\n",
    "base_path = r\"C:\\Users\\kimbe\\Documents\\StreamingAnalysis\\data\\raw_data\"\n",
    "\n",
    "# Load the datasets\n",
    "amazon_df = pd.read_csv(f'{base_path}\\\\amazon_catalog.csv')\n",
    "hulu_df = pd.read_csv(f'{base_path}\\\\hulu_catalog.csv')\n",
    "netflix_df = pd.read_csv(f'{base_path}\\\\netflix_catalog.csv')\n",
    "hbo_df = pd.read_csv(f'{base_path}\\\\hbo_catalog.csv')\n",
    "apple_df = pd.read_csv(f'{base_path}\\\\apple_catalog.csv')\n",
    "\n",
    "# List of datasets\n",
    "datasets = [amazon_df, hulu_df, netflix_df, hbo_df, apple_df]\n",
    "platforms = [\"Amazon\", \"Hulu\", \"Netflix\", \"HBO\", \"Apple\"]"
   ]
  },
  {
   "cell_type": "markdown",
   "metadata": {},
   "source": [
    "# Merging Issues"
   ]
  },
  {
   "cell_type": "code",
   "execution_count": null,
   "metadata": {},
   "outputs": [],
   "source": []
  },
  {
   "cell_type": "code",
   "execution_count": null,
   "metadata": {},
   "outputs": [],
   "source": []
  },
  {
   "cell_type": "code",
   "execution_count": null,
   "metadata": {},
   "outputs": [],
   "source": []
  }
 ],
 "metadata": {
  "kernelspec": {
   "display_name": "Env - StreamingAnalysis",
   "language": "python",
   "name": "python3"
  },
  "language_info": {
   "codemirror_mode": {
    "name": "ipython",
    "version": 3
   },
   "file_extension": ".py",
   "mimetype": "text/x-python",
   "name": "python",
   "nbconvert_exporter": "python",
   "pygments_lexer": "ipython3",
   "version": "3.13.1"
  }
 },
 "nbformat": 4,
 "nbformat_minor": 2
}
