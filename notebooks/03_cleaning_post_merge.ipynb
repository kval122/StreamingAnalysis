{
 "cells": [
  {
   "cell_type": "code",
   "execution_count": 1,
   "metadata": {},
   "outputs": [],
   "source": [
    "import pandas as pd\n",
    "import numpy as np\n",
    "import pprint\n",
    "from sklearn.preprocessing import StandardScaler\n",
    "import matplotlib.pyplot as plt\n",
    "import seaborn as sns\n",
    "from scipy.stats import zscore\n"
   ]
  },
  {
   "cell_type": "code",
   "execution_count": 2,
   "metadata": {},
   "outputs": [],
   "source": [
    "# Load the cleaned streaming_titles_info dataset (change the path if necessary)\n",
    "file_path = r\"C:\\Users\\kimbe\\Documents\\StreamingAnalysis\\data\\cleaned_data\\final_df.csv\"\n",
    "streaming_titles_info = pd.read_csv(file_path)\n"
   ]
  },
  {
   "cell_type": "code",
   "execution_count": 6,
   "metadata": {},
   "outputs": [
    {
     "data": {
      "text/html": [
       "<div>\n",
       "<style scoped>\n",
       "    .dataframe tbody tr th:only-of-type {\n",
       "        vertical-align: middle;\n",
       "    }\n",
       "\n",
       "    .dataframe tbody tr th {\n",
       "        vertical-align: top;\n",
       "    }\n",
       "\n",
       "    .dataframe thead th {\n",
       "        text-align: right;\n",
       "    }\n",
       "</style>\n",
       "<table border=\"1\" class=\"dataframe\">\n",
       "  <thead>\n",
       "    <tr style=\"text-align: right;\">\n",
       "      <th></th>\n",
       "      <th>imdbId</th>\n",
       "      <th>title</th>\n",
       "      <th>releaseYear</th>\n",
       "      <th>genres</th>\n",
       "      <th>type</th>\n",
       "      <th>rating</th>\n",
       "      <th>numVotes</th>\n",
       "      <th>Amazon</th>\n",
       "      <th>Hulu</th>\n",
       "      <th>Netflix</th>\n",
       "      <th>...</th>\n",
       "      <th>Reality-TV</th>\n",
       "      <th>Romance</th>\n",
       "      <th>Science Fiction</th>\n",
       "      <th>Short</th>\n",
       "      <th>Sport</th>\n",
       "      <th>Talk-Show</th>\n",
       "      <th>Thriller</th>\n",
       "      <th>War</th>\n",
       "      <th>Western</th>\n",
       "      <th>niche</th>\n",
       "    </tr>\n",
       "  </thead>\n",
       "  <tbody>\n",
       "    <tr>\n",
       "      <th>0</th>\n",
       "      <td>tt0000417</td>\n",
       "      <td>A Trip to the Moon</td>\n",
       "      <td>1902</td>\n",
       "      <td>['Adventure', 'Comedy', 'Fantasy']</td>\n",
       "      <td>movie</td>\n",
       "      <td>8.1</td>\n",
       "      <td>57365</td>\n",
       "      <td>1</td>\n",
       "      <td>0</td>\n",
       "      <td>0</td>\n",
       "      <td>...</td>\n",
       "      <td>0</td>\n",
       "      <td>0</td>\n",
       "      <td>0</td>\n",
       "      <td>0</td>\n",
       "      <td>0</td>\n",
       "      <td>0</td>\n",
       "      <td>0</td>\n",
       "      <td>0</td>\n",
       "      <td>0</td>\n",
       "      <td>0</td>\n",
       "    </tr>\n",
       "    <tr>\n",
       "      <th>1</th>\n",
       "      <td>tt0000499</td>\n",
       "      <td>An Impossible Voyage</td>\n",
       "      <td>1904</td>\n",
       "      <td>['Action', 'Adventure', 'Family']</td>\n",
       "      <td>movie</td>\n",
       "      <td>7.5</td>\n",
       "      <td>4153</td>\n",
       "      <td>0</td>\n",
       "      <td>0</td>\n",
       "      <td>0</td>\n",
       "      <td>...</td>\n",
       "      <td>0</td>\n",
       "      <td>0</td>\n",
       "      <td>0</td>\n",
       "      <td>0</td>\n",
       "      <td>0</td>\n",
       "      <td>0</td>\n",
       "      <td>0</td>\n",
       "      <td>0</td>\n",
       "      <td>0</td>\n",
       "      <td>0</td>\n",
       "    </tr>\n",
       "    <tr>\n",
       "      <th>2</th>\n",
       "      <td>tt0002646</td>\n",
       "      <td>Atlantis</td>\n",
       "      <td>1913</td>\n",
       "      <td>['Drama']</td>\n",
       "      <td>movie</td>\n",
       "      <td>6.5</td>\n",
       "      <td>502</td>\n",
       "      <td>1</td>\n",
       "      <td>0</td>\n",
       "      <td>0</td>\n",
       "      <td>...</td>\n",
       "      <td>0</td>\n",
       "      <td>0</td>\n",
       "      <td>0</td>\n",
       "      <td>0</td>\n",
       "      <td>0</td>\n",
       "      <td>0</td>\n",
       "      <td>0</td>\n",
       "      <td>0</td>\n",
       "      <td>0</td>\n",
       "      <td>0</td>\n",
       "    </tr>\n",
       "    <tr>\n",
       "      <th>3</th>\n",
       "      <td>tt0003014</td>\n",
       "      <td>Ingeborg Holm</td>\n",
       "      <td>1913</td>\n",
       "      <td>['Drama']</td>\n",
       "      <td>movie</td>\n",
       "      <td>7.0</td>\n",
       "      <td>1479</td>\n",
       "      <td>0</td>\n",
       "      <td>0</td>\n",
       "      <td>1</td>\n",
       "      <td>...</td>\n",
       "      <td>0</td>\n",
       "      <td>0</td>\n",
       "      <td>0</td>\n",
       "      <td>0</td>\n",
       "      <td>0</td>\n",
       "      <td>0</td>\n",
       "      <td>0</td>\n",
       "      <td>0</td>\n",
       "      <td>0</td>\n",
       "      <td>0</td>\n",
       "    </tr>\n",
       "    <tr>\n",
       "      <th>4</th>\n",
       "      <td>tt0004181</td>\n",
       "      <td>Judith of Bethulia</td>\n",
       "      <td>1914</td>\n",
       "      <td>['Drama']</td>\n",
       "      <td>movie</td>\n",
       "      <td>6.2</td>\n",
       "      <td>1482</td>\n",
       "      <td>1</td>\n",
       "      <td>0</td>\n",
       "      <td>0</td>\n",
       "      <td>...</td>\n",
       "      <td>0</td>\n",
       "      <td>0</td>\n",
       "      <td>0</td>\n",
       "      <td>0</td>\n",
       "      <td>0</td>\n",
       "      <td>0</td>\n",
       "      <td>0</td>\n",
       "      <td>0</td>\n",
       "      <td>0</td>\n",
       "      <td>0</td>\n",
       "    </tr>\n",
       "  </tbody>\n",
       "</table>\n",
       "<p>5 rows × 35 columns</p>\n",
       "</div>"
      ],
      "text/plain": [
       "      imdbId                 title  releaseYear  \\\n",
       "0  tt0000417    A Trip to the Moon         1902   \n",
       "1  tt0000499  An Impossible Voyage         1904   \n",
       "2  tt0002646              Atlantis         1913   \n",
       "3  tt0003014         Ingeborg Holm         1913   \n",
       "4  tt0004181    Judith of Bethulia         1914   \n",
       "\n",
       "                               genres   type  rating  numVotes  Amazon  Hulu  \\\n",
       "0  ['Adventure', 'Comedy', 'Fantasy']  movie     8.1     57365       1     0   \n",
       "1   ['Action', 'Adventure', 'Family']  movie     7.5      4153       0     0   \n",
       "2                           ['Drama']  movie     6.5       502       1     0   \n",
       "3                           ['Drama']  movie     7.0      1479       0     0   \n",
       "4                           ['Drama']  movie     6.2      1482       1     0   \n",
       "\n",
       "   Netflix  ...  Reality-TV  Romance  Science Fiction  Short  Sport  \\\n",
       "0        0  ...           0        0                0      0      0   \n",
       "1        0  ...           0        0                0      0      0   \n",
       "2        0  ...           0        0                0      0      0   \n",
       "3        1  ...           0        0                0      0      0   \n",
       "4        0  ...           0        0                0      0      0   \n",
       "\n",
       "   Talk-Show  Thriller  War  Western  niche  \n",
       "0          0         0    0        0      0  \n",
       "1          0         0    0        0      0  \n",
       "2          0         0    0        0      0  \n",
       "3          0         0    0        0      0  \n",
       "4          0         0    0        0      0  \n",
       "\n",
       "[5 rows x 35 columns]"
      ]
     },
     "execution_count": 6,
     "metadata": {},
     "output_type": "execute_result"
    }
   ],
   "source": [
    "# Rename columns in the dataframe\n",
    "streaming_titles_info = streaming_titles_info.rename(columns={\n",
    "    'imdbNumVotes': 'numVotes',\n",
    "    'imdbAverageRating': 'rating'\n",
    "})\n",
    "\n",
    "# Verify the changes\n",
    "streaming_titles_info.head()\n"
   ]
  },
  {
   "cell_type": "code",
   "execution_count": 12,
   "metadata": {},
   "outputs": [
    {
     "name": "stdout",
     "output_type": "stream",
     "text": [
      "<class 'pandas.core.frame.DataFrame'>\n",
      "RangeIndex: 89156 entries, 0 to 89155\n",
      "Data columns (total 35 columns):\n",
      " #   Column           Non-Null Count  Dtype  \n",
      "---  ------           --------------  -----  \n",
      " 0   imdbId           89156 non-null  object \n",
      " 1   title            89156 non-null  object \n",
      " 2   releaseYear      89156 non-null  int64  \n",
      " 3   genres           89156 non-null  object \n",
      " 4   type             89156 non-null  object \n",
      " 5   rating           89156 non-null  float64\n",
      " 6   numVotes         89156 non-null  int64  \n",
      " 7   Amazon           89156 non-null  int64  \n",
      " 8   Hulu             89156 non-null  int64  \n",
      " 9   Netflix          89156 non-null  int64  \n",
      " 10  HBO              89156 non-null  int64  \n",
      " 11  Apple            89156 non-null  int64  \n",
      " 12  Action           89156 non-null  int64  \n",
      " 13  Adventure        89156 non-null  int64  \n",
      " 14  Animation        89156 non-null  int64  \n",
      " 15  Comedy           89156 non-null  int64  \n",
      " 16  Crime            89156 non-null  int64  \n",
      " 17  Documentary      89156 non-null  int64  \n",
      " 18  Drama            89156 non-null  int64  \n",
      " 19  Family           89156 non-null  int64  \n",
      " 20  Fantasy          89156 non-null  int64  \n",
      " 21  History          89156 non-null  int64  \n",
      " 22  Horror           89156 non-null  int64  \n",
      " 23  Music            89156 non-null  int64  \n",
      " 24  Mystery          89156 non-null  int64  \n",
      " 25  Reality-TV       89156 non-null  int64  \n",
      " 26  Romance          89156 non-null  int64  \n",
      " 27  Science Fiction  89156 non-null  int64  \n",
      " 28  Short            89156 non-null  int64  \n",
      " 29  Sport            89156 non-null  int64  \n",
      " 30  Talk-Show        89156 non-null  int64  \n",
      " 31  Thriller         89156 non-null  int64  \n",
      " 32  War              89156 non-null  int64  \n",
      " 33  Western          89156 non-null  int64  \n",
      " 34  niche            89156 non-null  int64  \n",
      "dtypes: float64(1), int64(30), object(4)\n",
      "memory usage: 23.8+ MB\n"
     ]
    }
   ],
   "source": [
    "streaming_titles_info.info()"
   ]
  },
  {
   "cell_type": "markdown",
   "metadata": {},
   "source": [
    "# Final Check"
   ]
  },
  {
   "cell_type": "markdown",
   "metadata": {},
   "source": [
    "**Check for Missing Values**"
   ]
  },
  {
   "cell_type": "code",
   "execution_count": 14,
   "metadata": {},
   "outputs": [
    {
     "name": "stdout",
     "output_type": "stream",
     "text": [
      "Checking for missing values...\n",
      "Series([], dtype: int64)\n"
     ]
    }
   ],
   "source": [
    "print(\"Checking for missing values...\")\n",
    "missing_values = streaming_titles_info.isnull().sum()\n",
    "print(missing_values[missing_values > 0])"
   ]
  },
  {
   "cell_type": "markdown",
   "metadata": {},
   "source": [
    "**Data Type Consistency**"
   ]
  },
  {
   "cell_type": "code",
   "execution_count": 16,
   "metadata": {},
   "outputs": [
    {
     "name": "stdout",
     "output_type": "stream",
     "text": [
      "\n",
      "Checking data types...\n",
      "imdbId              object\n",
      "title               object\n",
      "releaseYear          int64\n",
      "genres              object\n",
      "type                object\n",
      "rating             float64\n",
      "numVotes             int64\n",
      "Amazon               int64\n",
      "Hulu                 int64\n",
      "Netflix              int64\n",
      "HBO                  int64\n",
      "Apple                int64\n",
      "Action               int64\n",
      "Adventure            int64\n",
      "Animation            int64\n",
      "Comedy               int64\n",
      "Crime                int64\n",
      "Documentary          int64\n",
      "Drama                int64\n",
      "Family               int64\n",
      "Fantasy              int64\n",
      "History              int64\n",
      "Horror               int64\n",
      "Music                int64\n",
      "Mystery              int64\n",
      "Reality-TV           int64\n",
      "Romance              int64\n",
      "Science Fiction      int64\n",
      "Short                int64\n",
      "Sport                int64\n",
      "Talk-Show            int64\n",
      "Thriller             int64\n",
      "War                  int64\n",
      "Western              int64\n",
      "niche                int64\n",
      "dtype: object\n"
     ]
    }
   ],
   "source": [
    "print(\"\\nChecking data types...\")\n",
    "data_types = streaming_titles_info.dtypes\n",
    "print(data_types)"
   ]
  },
  {
   "cell_type": "markdown",
   "metadata": {},
   "source": [
    "**Duplicate Handling**"
   ]
  },
  {
   "cell_type": "code",
   "execution_count": 19,
   "metadata": {},
   "outputs": [
    {
     "name": "stdout",
     "output_type": "stream",
     "text": [
      "\n",
      "Checking for duplicate rows...\n",
      "Number of duplicate rows: 0\n"
     ]
    }
   ],
   "source": [
    "print(\"\\nChecking for duplicate rows...\")\n",
    "duplicates = streaming_titles_info.duplicated().sum()\n",
    "print(f\"Number of duplicate rows: {duplicates}\")"
   ]
  },
  {
   "cell_type": "markdown",
   "metadata": {},
   "source": [
    "**Final Check for Consistency**"
   ]
  },
  {
   "cell_type": "code",
   "execution_count": 20,
   "metadata": {},
   "outputs": [
    {
     "name": "stdout",
     "output_type": "stream",
     "text": [
      "\n",
      "Final Check:\n",
      "\n",
      "Columns with zero sum in encoded genres (should be zero):\n",
      "Series([], dtype: int64)\n"
     ]
    }
   ],
   "source": [
    "print(\"\\nFinal Check:\")\n",
    "# Checking if any genres columns are zero (should not be, except for missing genres)\n",
    "zeros_in_genres = streaming_titles_info.drop(columns=['imdbId', 'title', 'releaseYear', 'genres', 'type', 'rating', 'numVotes']).sum(axis=0)\n",
    "print(\"\\nColumns with zero sum in encoded genres (should be zero):\")\n",
    "print(zeros_in_genres[zeros_in_genres == 0])"
   ]
  },
  {
   "cell_type": "markdown",
   "metadata": {},
   "source": [
    "**Final dataframe after cleaning**"
   ]
  },
  {
   "cell_type": "code",
   "execution_count": 21,
   "metadata": {},
   "outputs": [
    {
     "name": "stdout",
     "output_type": "stream",
     "text": [
      "\n",
      "Final DataFrame shape: (89156, 35)\n"
     ]
    }
   ],
   "source": [
    "print(\"\\nFinal DataFrame shape:\", streaming_titles_info.shape)"
   ]
  },
  {
   "cell_type": "code",
   "execution_count": 23,
   "metadata": {},
   "outputs": [
    {
     "name": "stdout",
     "output_type": "stream",
     "text": [
      "Number of outliers in numVotes: 1114\n",
      "Number of outliers in rating: 293\n"
     ]
    }
   ],
   "source": [
    "# Assuming final_df is already defined\n",
    "\n",
    "# Calculate Z-scores for 'numVotes' and 'rating' columns\n",
    "streaming_titles_info['numVotes_zscore'] = zscore(streaming_titles_info['numVotes'])\n",
    "streaming_titles_info['rating_zscore'] = zscore(streaming_titles_info['rating'])\n",
    "\n",
    "# Define outlier threshold (e.g., z-score > 3 or < -3)\n",
    "outlier_threshold = 3\n",
    "\n",
    "# Filter out rows where z-score for either column is greater than the threshold\n",
    "numVotes_outliers = streaming_titles_info[np.abs(streaming_titles_info['numVotes_zscore']) > outlier_threshold]\n",
    "rating_outliers = streaming_titles_info[np.abs(streaming_titles_info['rating_zscore']) > outlier_threshold]\n",
    "\n",
    "# Print the number of outliers detected\n",
    "print(f\"Number of outliers in numVotes: {len(numVotes_outliers)}\")\n",
    "print(f\"Number of outliers in rating: {len(rating_outliers)}\")"
   ]
  },
  {
   "cell_type": "code",
   "execution_count": 24,
   "metadata": {},
   "outputs": [],
   "source": [
    "# Calculate 1st and 99th percentiles\n",
    "lower_percentile = streaming_titles_info['numVotes'].quantile(0.01)\n",
    "upper_percentile = streaming_titles_info['numVotes'].quantile(0.99)\n",
    "\n",
    "# Cap values outside of these percentiles\n",
    "streaming_titles_info['numVotes'] = streaming_titles_info['numVotes'].clip(lower=lower_percentile, upper=upper_percentile)\n",
    "\n",
    "lower_percentile_rating = streaming_titles_info['rating'].quantile(0.01)\n",
    "upper_percentile_rating = streaming_titles_info['rating'].quantile(0.99)\n",
    "\n",
    "streaming_titles_info['rating'] = streaming_titles_info['rating'].clip(lower=lower_percentile_rating, upper=upper_percentile_rating)\n"
   ]
  },
  {
   "cell_type": "markdown",
   "metadata": {},
   "source": [
    "## Distribution of Ratings and Number of Votes"
   ]
  },
  {
   "cell_type": "code",
   "execution_count": 26,
   "metadata": {},
   "outputs": [
    {
     "data": {
      "image/png": "[encoded data removed]",
      "text/plain": [
       "<Figure size 1000x600 with 1 Axes>"
      ]
     },
     "metadata": {},
     "output_type": "display_data"
    },
    {
     "data": {
      "image/png": "[encoded data removed]",
      "text/plain": [
       "<Figure size 1000x600 with 1 Axes>"
      ]
     },
     "metadata": {},
     "output_type": "display_data"
    }
   ],
   "source": [
    "# Rating Distribution\n",
    "plt.figure(figsize=(10, 6))\n",
    "sns.histplot(streaming_titles_info['rating'], bins=30, kde=True, color='blue')\n",
    "plt.title('Distribution of Ratings')\n",
    "plt.xlabel('Rating')\n",
    "plt.ylabel('Frequency')\n",
    "plt.show()\n",
    "\n",
    "# Number of Votes Distribution\n",
    "plt.figure(figsize=(10, 6))\n",
    "sns.histplot(streaming_titles_info['numVotes'], bins=30, kde=True, color='green')\n",
    "plt.title('Distribution of Number of Votes')\n",
    "plt.xlabel('Number of Votes')\n",
    "plt.ylabel('Frequency')\n",
    "plt.show()\n"
   ]
  },
  {
   "cell_type": "code",
   "execution_count": 27,
   "metadata": {},
   "outputs": [
    {
     "data": {
      "text/plain": [
       "'C:\\\\Users\\\\kimbe\\\\Documents\\\\StreamingAnalysis\\\\data\\\\cleaned_data\\\\streaming_titles_info.csv'"
      ]
     },
     "execution_count": 27,
     "metadata": {},
     "output_type": "execute_result"
    }
   ],
   "source": [
    "# Save the cleaned DataFrame to the specified location\n",
    "file_path = r\"C:\\Users\\kimbe\\Documents\\StreamingAnalysis\\data\\cleaned_data\\streaming_titles_info.csv\"\n",
    "\n",
    "# Save the DataFrame as a CSV file\n",
    "streaming_titles_info.to_csv(file_path, index=False)\n",
    "\n",
    "file_path"
   ]
  },
  {
   "cell_type": "code",
   "execution_count": null,
   "metadata": {},
   "outputs": [],
   "source": []
  }
 ],
 "metadata": {
  "kernelspec": {
   "display_name": "Env - StreamingAnalysis",
   "language": "python",
   "name": "python3"
  },
  "language_info": {
   "codemirror_mode": {
    "name": "ipython",
    "version": 3
   },
   "file_extension": ".py",
   "mimetype": "text/x-python",
   "name": "python",
   "nbconvert_exporter": "python",
   "pygments_lexer": "ipython3",
   "version": "3.13.1"
  }
 },
 "nbformat": 4,
 "nbformat_minor": 2
}
