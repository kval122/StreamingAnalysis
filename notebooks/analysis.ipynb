{
 "cells": [
  {
   "cell_type": "code",
   "execution_count": 1,
   "metadata": {},
   "outputs": [],
   "source": [
    "import pandas as pd\n",
    "import matplotlib.pyplot as plt\n",
    "import seaborn as sns\n",
    "from matplotlib.ticker import PercentFormatter\n",
    "\n"
   ]
  },
  {
   "cell_type": "markdown",
   "metadata": {},
   "source": [
    "# Load dataframes\n"
   ]
  },
  {
   "cell_type": "code",
   "execution_count": 2,
   "metadata": {},
   "outputs": [],
   "source": [
    "# Load dataframes\n",
    "\n",
    "# streaming_titles_info\n",
    "streaming_titles_info = pd.read_csv(r\"C:\\Users\\kimbe\\Documents\\StreamingAnalysis\\data\\cleaned_data\\streaming_titles_info.csv\")\n",
    "\n",
    "# imdb_catalog_complete\n",
    "imdb_catalog_complete = pd.read_csv(r\"C:\\Users\\kimbe\\Documents\\StreamingAnalysis\\data\\cleaned_data\\imdb_catalog_complete.csv\")\n",
    "\n",
    "# cancellation_rates\n",
    "cancellation_rates = pd.read_csv(r\"C:\\Users\\kimbe\\Documents\\StreamingAnalysis\\data\\cleaned_data\\cancellation_rates.csv\")\n",
    "\n",
    "# streaming_costs\n",
    "streaming_costs = pd.read_csv(r\"C:\\Users\\kimbe\\Documents\\StreamingAnalysis\\data\\cleaned_data\\streaming_costs.csv\")\n",
    "\n",
    "# Comparison df\n",
    "comparison_data = pd.read_csv(r'C:\\Users\\kimbe\\Documents\\StreamingAnalysis\\outputs\\comparison_data.csv')\n"
   ]
  },
  {
   "cell_type": "markdown",
   "metadata": {},
   "source": [
    "Make seperate df for each platform"
   ]
  },
  {
   "cell_type": "code",
   "execution_count": 3,
   "metadata": {},
   "outputs": [],
   "source": [
    "# Filter rows for each platform where the platform column is 1 (indicating availability on the platform)\n",
    "amazon_df = streaming_titles_info[streaming_titles_info['Amazon'] == 1].copy()\n",
    "hulu_df = streaming_titles_info[streaming_titles_info['Hulu'] == 1].copy()\n",
    "netflix_df = streaming_titles_info[streaming_titles_info['Netflix'] == 1].copy()\n",
    "apple_df = streaming_titles_info[streaming_titles_info['Apple'] == 1].copy()\n",
    "hbo_df = streaming_titles_info[streaming_titles_info['HBO'] == 1].copy()\n"
   ]
  },
  {
   "cell_type": "code",
   "execution_count": 4,
   "metadata": {},
   "outputs": [],
   "source": [
    "# Dictionary to store the platform DataFrames\n",
    "platforms_df = {\n",
    "    'Amazon': amazon_df,\n",
    "    'Apple': apple_df,\n",
    "    'HBO': hbo_df,\n",
    "    'Hulu': hulu_df,\n",
    "    'Netflix': netflix_df,\n",
    "    'HBO': hbo_df,\n",
    "}"
   ]
  },
  {
   "cell_type": "code",
   "execution_count": 5,
   "metadata": {},
   "outputs": [
    {
     "data": {
      "text/html": [
       "<div>\n",
       "<style scoped>\n",
       "    .dataframe tbody tr th:only-of-type {\n",
       "        vertical-align: middle;\n",
       "    }\n",
       "\n",
       "    .dataframe tbody tr th {\n",
       "        vertical-align: top;\n",
       "    }\n",
       "\n",
       "    .dataframe thead th {\n",
       "        text-align: right;\n",
       "    }\n",
       "</style>\n",
       "<table border=\"1\" class=\"dataframe\">\n",
       "  <thead>\n",
       "    <tr style=\"text-align: right;\">\n",
       "      <th></th>\n",
       "      <th>imdbId</th>\n",
       "      <th>title</th>\n",
       "      <th>releaseYear</th>\n",
       "      <th>type</th>\n",
       "      <th>averageRating</th>\n",
       "      <th>numVotes</th>\n",
       "      <th>Amazon</th>\n",
       "      <th>Hulu</th>\n",
       "      <th>Netflix</th>\n",
       "      <th>HBO</th>\n",
       "      <th>...</th>\n",
       "      <th>Music</th>\n",
       "      <th>Mystery</th>\n",
       "      <th>Reality-TV</th>\n",
       "      <th>Romance</th>\n",
       "      <th>Sci-Fi</th>\n",
       "      <th>Sport</th>\n",
       "      <th>Talk-Show</th>\n",
       "      <th>Thriller</th>\n",
       "      <th>War</th>\n",
       "      <th>Western</th>\n",
       "    </tr>\n",
       "  </thead>\n",
       "  <tbody>\n",
       "    <tr>\n",
       "      <th>0</th>\n",
       "      <td>tt0000417</td>\n",
       "      <td>A Trip to the Moon</td>\n",
       "      <td>1902</td>\n",
       "      <td>movie</td>\n",
       "      <td>8.1</td>\n",
       "      <td>57373</td>\n",
       "      <td>1</td>\n",
       "      <td>0</td>\n",
       "      <td>0</td>\n",
       "      <td>1</td>\n",
       "      <td>...</td>\n",
       "      <td>0</td>\n",
       "      <td>0</td>\n",
       "      <td>0</td>\n",
       "      <td>0</td>\n",
       "      <td>0</td>\n",
       "      <td>0</td>\n",
       "      <td>0</td>\n",
       "      <td>0</td>\n",
       "      <td>0</td>\n",
       "      <td>0</td>\n",
       "    </tr>\n",
       "    <tr>\n",
       "      <th>1</th>\n",
       "      <td>tt0000499</td>\n",
       "      <td>An Impossible Voyage</td>\n",
       "      <td>1904</td>\n",
       "      <td>movie</td>\n",
       "      <td>7.5</td>\n",
       "      <td>4153</td>\n",
       "      <td>0</td>\n",
       "      <td>0</td>\n",
       "      <td>0</td>\n",
       "      <td>1</td>\n",
       "      <td>...</td>\n",
       "      <td>0</td>\n",
       "      <td>0</td>\n",
       "      <td>0</td>\n",
       "      <td>0</td>\n",
       "      <td>0</td>\n",
       "      <td>0</td>\n",
       "      <td>0</td>\n",
       "      <td>0</td>\n",
       "      <td>0</td>\n",
       "      <td>0</td>\n",
       "    </tr>\n",
       "    <tr>\n",
       "      <th>2</th>\n",
       "      <td>tt0002646</td>\n",
       "      <td>Atlantis</td>\n",
       "      <td>1913</td>\n",
       "      <td>movie</td>\n",
       "      <td>6.5</td>\n",
       "      <td>502</td>\n",
       "      <td>1</td>\n",
       "      <td>0</td>\n",
       "      <td>0</td>\n",
       "      <td>0</td>\n",
       "      <td>...</td>\n",
       "      <td>0</td>\n",
       "      <td>0</td>\n",
       "      <td>0</td>\n",
       "      <td>0</td>\n",
       "      <td>0</td>\n",
       "      <td>0</td>\n",
       "      <td>0</td>\n",
       "      <td>0</td>\n",
       "      <td>0</td>\n",
       "      <td>0</td>\n",
       "    </tr>\n",
       "    <tr>\n",
       "      <th>3</th>\n",
       "      <td>tt0003014</td>\n",
       "      <td>Ingeborg Holm</td>\n",
       "      <td>1913</td>\n",
       "      <td>movie</td>\n",
       "      <td>7.0</td>\n",
       "      <td>1479</td>\n",
       "      <td>0</td>\n",
       "      <td>0</td>\n",
       "      <td>1</td>\n",
       "      <td>0</td>\n",
       "      <td>...</td>\n",
       "      <td>0</td>\n",
       "      <td>0</td>\n",
       "      <td>0</td>\n",
       "      <td>0</td>\n",
       "      <td>0</td>\n",
       "      <td>0</td>\n",
       "      <td>0</td>\n",
       "      <td>0</td>\n",
       "      <td>0</td>\n",
       "      <td>0</td>\n",
       "    </tr>\n",
       "    <tr>\n",
       "      <th>4</th>\n",
       "      <td>tt0004181</td>\n",
       "      <td>Judith of Bethulia</td>\n",
       "      <td>1914</td>\n",
       "      <td>movie</td>\n",
       "      <td>6.2</td>\n",
       "      <td>1482</td>\n",
       "      <td>1</td>\n",
       "      <td>0</td>\n",
       "      <td>0</td>\n",
       "      <td>0</td>\n",
       "      <td>...</td>\n",
       "      <td>0</td>\n",
       "      <td>0</td>\n",
       "      <td>0</td>\n",
       "      <td>0</td>\n",
       "      <td>0</td>\n",
       "      <td>0</td>\n",
       "      <td>0</td>\n",
       "      <td>0</td>\n",
       "      <td>0</td>\n",
       "      <td>0</td>\n",
       "    </tr>\n",
       "  </tbody>\n",
       "</table>\n",
       "<p>5 rows × 31 columns</p>\n",
       "</div>"
      ],
      "text/plain": [
       "      imdbId                 title  releaseYear   type  averageRating  \\\n",
       "0  tt0000417    A Trip to the Moon         1902  movie            8.1   \n",
       "1  tt0000499  An Impossible Voyage         1904  movie            7.5   \n",
       "2  tt0002646              Atlantis         1913  movie            6.5   \n",
       "3  tt0003014         Ingeborg Holm         1913  movie            7.0   \n",
       "4  tt0004181    Judith of Bethulia         1914  movie            6.2   \n",
       "\n",
       "   numVotes  Amazon  Hulu  Netflix  HBO  ...  Music  Mystery  Reality-TV  \\\n",
       "0     57373       1     0        0    1  ...      0        0           0   \n",
       "1      4153       0     0        0    1  ...      0        0           0   \n",
       "2       502       1     0        0    0  ...      0        0           0   \n",
       "3      1479       0     0        1    0  ...      0        0           0   \n",
       "4      1482       1     0        0    0  ...      0        0           0   \n",
       "\n",
       "   Romance  Sci-Fi  Sport  Talk-Show  Thriller  War  Western  \n",
       "0        0       0      0          0         0    0        0  \n",
       "1        0       0      0          0         0    0        0  \n",
       "2        0       0      0          0         0    0        0  \n",
       "3        0       0      0          0         0    0        0  \n",
       "4        0       0      0          0         0    0        0  \n",
       "\n",
       "[5 rows x 31 columns]"
      ]
     },
     "execution_count": 5,
     "metadata": {},
     "output_type": "execute_result"
    }
   ],
   "source": [
    "streaming_titles_info.head()\n"
   ]
  },
  {
   "cell_type": "code",
   "execution_count": 6,
   "metadata": {},
   "outputs": [
    {
     "name": "stdout",
     "output_type": "stream",
     "text": [
      "<class 'pandas.core.frame.DataFrame'>\n",
      "RangeIndex: 89004 entries, 0 to 89003\n",
      "Data columns (total 31 columns):\n",
      " #   Column              Non-Null Count  Dtype  \n",
      "---  ------              --------------  -----  \n",
      " 0   imdbId              89004 non-null  object \n",
      " 1   title               89004 non-null  object \n",
      " 2   releaseYear         89004 non-null  int64  \n",
      " 3   type                89004 non-null  object \n",
      " 4   averageRating       89004 non-null  float64\n",
      " 5   numVotes            89004 non-null  int64  \n",
      " 6   Amazon              89004 non-null  int64  \n",
      " 7   Hulu                89004 non-null  int64  \n",
      " 8   Netflix             89004 non-null  int64  \n",
      " 9   HBO                 89004 non-null  int64  \n",
      " 10  Apple               89004 non-null  int64  \n",
      " 11  Action & Adventure  89004 non-null  int64  \n",
      " 12  Animation           89004 non-null  int64  \n",
      " 13  Comedy              89004 non-null  int64  \n",
      " 14  Crime               89004 non-null  int64  \n",
      " 15  Documentary         89004 non-null  int64  \n",
      " 16  Drama               89004 non-null  int64  \n",
      " 17  Family              89004 non-null  int64  \n",
      " 18  Fantasy             89004 non-null  int64  \n",
      " 19  History             89004 non-null  int64  \n",
      " 20  Horror              89004 non-null  int64  \n",
      " 21  Music               89004 non-null  int64  \n",
      " 22  Mystery             89004 non-null  int64  \n",
      " 23  Reality-TV          89004 non-null  int64  \n",
      " 24  Romance             89004 non-null  int64  \n",
      " 25  Sci-Fi              89004 non-null  int64  \n",
      " 26  Sport               89004 non-null  int64  \n",
      " 27  Talk-Show           89004 non-null  int64  \n",
      " 28  Thriller            89004 non-null  int64  \n",
      " 29  War                 89004 non-null  int64  \n",
      " 30  Western             89004 non-null  int64  \n",
      "dtypes: float64(1), int64(27), object(3)\n",
      "memory usage: 21.1+ MB\n"
     ]
    }
   ],
   "source": [
    "streaming_titles_info.info()"
   ]
  },
  {
   "cell_type": "code",
   "execution_count": 7,
   "metadata": {},
   "outputs": [
    {
     "data": {
      "text/html": [
       "<div>\n",
       "<style scoped>\n",
       "    .dataframe tbody tr th:only-of-type {\n",
       "        vertical-align: middle;\n",
       "    }\n",
       "\n",
       "    .dataframe tbody tr th {\n",
       "        vertical-align: top;\n",
       "    }\n",
       "\n",
       "    .dataframe thead th {\n",
       "        text-align: right;\n",
       "    }\n",
       "</style>\n",
       "<table border=\"1\" class=\"dataframe\">\n",
       "  <thead>\n",
       "    <tr style=\"text-align: right;\">\n",
       "      <th></th>\n",
       "      <th>imdbId</th>\n",
       "      <th>genres</th>\n",
       "      <th>averageRating</th>\n",
       "      <th>numVotes</th>\n",
       "    </tr>\n",
       "  </thead>\n",
       "  <tbody>\n",
       "    <tr>\n",
       "      <th>0</th>\n",
       "      <td>tt0000001</td>\n",
       "      <td>Documentary,Short</td>\n",
       "      <td>5.7</td>\n",
       "      <td>2106</td>\n",
       "    </tr>\n",
       "    <tr>\n",
       "      <th>1</th>\n",
       "      <td>tt0000002</td>\n",
       "      <td>Animation,Short</td>\n",
       "      <td>5.6</td>\n",
       "      <td>283</td>\n",
       "    </tr>\n",
       "    <tr>\n",
       "      <th>2</th>\n",
       "      <td>tt0000003</td>\n",
       "      <td>Animation,Comedy,Romance</td>\n",
       "      <td>6.5</td>\n",
       "      <td>2128</td>\n",
       "    </tr>\n",
       "    <tr>\n",
       "      <th>3</th>\n",
       "      <td>tt0000004</td>\n",
       "      <td>Animation,Short</td>\n",
       "      <td>5.4</td>\n",
       "      <td>182</td>\n",
       "    </tr>\n",
       "    <tr>\n",
       "      <th>4</th>\n",
       "      <td>tt0000005</td>\n",
       "      <td>Comedy,Short</td>\n",
       "      <td>6.2</td>\n",
       "      <td>2859</td>\n",
       "    </tr>\n",
       "  </tbody>\n",
       "</table>\n",
       "</div>"
      ],
      "text/plain": [
       "      imdbId                    genres  averageRating  numVotes\n",
       "0  tt0000001         Documentary,Short            5.7      2106\n",
       "1  tt0000002           Animation,Short            5.6       283\n",
       "2  tt0000003  Animation,Comedy,Romance            6.5      2128\n",
       "3  tt0000004           Animation,Short            5.4       182\n",
       "4  tt0000005              Comedy,Short            6.2      2859"
      ]
     },
     "execution_count": 7,
     "metadata": {},
     "output_type": "execute_result"
    }
   ],
   "source": [
    "imdb_catalog_complete.head()\n"
   ]
  },
  {
   "cell_type": "code",
   "execution_count": 8,
   "metadata": {},
   "outputs": [
    {
     "data": {
      "text/html": [
       "<div>\n",
       "<style scoped>\n",
       "    .dataframe tbody tr th:only-of-type {\n",
       "        vertical-align: middle;\n",
       "    }\n",
       "\n",
       "    .dataframe tbody tr th {\n",
       "        vertical-align: top;\n",
       "    }\n",
       "\n",
       "    .dataframe thead th {\n",
       "        text-align: right;\n",
       "    }\n",
       "</style>\n",
       "<table border=\"1\" class=\"dataframe\">\n",
       "  <thead>\n",
       "    <tr style=\"text-align: right;\">\n",
       "      <th></th>\n",
       "      <th>Platform</th>\n",
       "      <th>Cancellation_Rate_Percentage</th>\n",
       "    </tr>\n",
       "  </thead>\n",
       "  <tbody>\n",
       "    <tr>\n",
       "      <th>0</th>\n",
       "      <td>Max</td>\n",
       "      <td>26.9</td>\n",
       "    </tr>\n",
       "    <tr>\n",
       "      <th>1</th>\n",
       "      <td>Broadcast</td>\n",
       "      <td>26.6</td>\n",
       "    </tr>\n",
       "    <tr>\n",
       "      <th>2</th>\n",
       "      <td>Disney</td>\n",
       "      <td>21.1</td>\n",
       "    </tr>\n",
       "    <tr>\n",
       "      <th>3</th>\n",
       "      <td>Paramount+</td>\n",
       "      <td>16.9</td>\n",
       "    </tr>\n",
       "    <tr>\n",
       "      <th>4</th>\n",
       "      <td>Hulu</td>\n",
       "      <td>15.2</td>\n",
       "    </tr>\n",
       "  </tbody>\n",
       "</table>\n",
       "</div>"
      ],
      "text/plain": [
       "     Platform  Cancellation_Rate_Percentage\n",
       "0         Max                          26.9\n",
       "1   Broadcast                          26.6\n",
       "2      Disney                          21.1\n",
       "3  Paramount+                          16.9\n",
       "4        Hulu                          15.2"
      ]
     },
     "execution_count": 8,
     "metadata": {},
     "output_type": "execute_result"
    }
   ],
   "source": [
    "cancellation_rates.head()\n"
   ]
  },
  {
   "cell_type": "code",
   "execution_count": 9,
   "metadata": {},
   "outputs": [
    {
     "data": {
      "text/html": [
       "<div>\n",
       "<style scoped>\n",
       "    .dataframe tbody tr th:only-of-type {\n",
       "        vertical-align: middle;\n",
       "    }\n",
       "\n",
       "    .dataframe tbody tr th {\n",
       "        vertical-align: top;\n",
       "    }\n",
       "\n",
       "    .dataframe thead th {\n",
       "        text-align: right;\n",
       "    }\n",
       "</style>\n",
       "<table border=\"1\" class=\"dataframe\">\n",
       "  <thead>\n",
       "    <tr style=\"text-align: right;\">\n",
       "      <th></th>\n",
       "      <th>Platform</th>\n",
       "      <th>Price_Per_Month</th>\n",
       "    </tr>\n",
       "  </thead>\n",
       "  <tbody>\n",
       "    <tr>\n",
       "      <th>0</th>\n",
       "      <td>Netflix</td>\n",
       "      <td>15.49</td>\n",
       "    </tr>\n",
       "    <tr>\n",
       "      <th>1</th>\n",
       "      <td>Hulu</td>\n",
       "      <td>17.99</td>\n",
       "    </tr>\n",
       "    <tr>\n",
       "      <th>2</th>\n",
       "      <td>Amazon Prime</td>\n",
       "      <td>14.97</td>\n",
       "    </tr>\n",
       "    <tr>\n",
       "      <th>3</th>\n",
       "      <td>Apple TV</td>\n",
       "      <td>9.99</td>\n",
       "    </tr>\n",
       "    <tr>\n",
       "      <th>4</th>\n",
       "      <td>Max</td>\n",
       "      <td>16.99</td>\n",
       "    </tr>\n",
       "  </tbody>\n",
       "</table>\n",
       "</div>"
      ],
      "text/plain": [
       "       Platform  Price_Per_Month\n",
       "0       Netflix            15.49\n",
       "1          Hulu            17.99\n",
       "2  Amazon Prime            14.97\n",
       "3      Apple TV             9.99\n",
       "4           Max            16.99"
      ]
     },
     "execution_count": 9,
     "metadata": {},
     "output_type": "execute_result"
    }
   ],
   "source": [
    "streaming_costs.head()\n"
   ]
  },
  {
   "cell_type": "markdown",
   "metadata": {},
   "source": [
    "# Analyze Content Availability"
   ]
  },
  {
   "cell_type": "markdown",
   "metadata": {},
   "source": [
    "Done: Calculate the total number of titles available in the U.S. for each platform."
   ]
  },
  {
   "cell_type": "markdown",
   "metadata": {},
   "source": [
    "## Create a breakdown of content types (movies vs. TV series). (Not considering ratings)"
   ]
  },
  {
   "cell_type": "code",
   "execution_count": 10,
   "metadata": {},
   "outputs": [
    {
     "name": "stdout",
     "output_type": "stream",
     "text": [
      "\n",
      "Amazon Breakdown:\n",
      "movie: 88.66%\n",
      "tv: 11.34%\n",
      "\n",
      "Apple Breakdown:\n",
      "movie: 78.94%\n",
      "tv: 21.06%\n",
      "\n",
      "HBO Breakdown:\n",
      "movie: 73.33%\n",
      "tv: 26.67%\n",
      "\n",
      "Hulu Breakdown:\n",
      "movie: 63.15%\n",
      "tv: 36.85%\n",
      "\n",
      "Netflix Breakdown:\n",
      "movie: 78.04%\n",
      "tv: 21.96%\n"
     ]
    }
   ],
   "source": [
    "# Function to calculate content type breakdown and print in percentage\n",
    "def calculate_and_print_content_type_percentage(platform_df, platform_name):\n",
    "    # Count the number of movies and TV series\n",
    "    content_type_counts = platform_df['type'].value_counts()\n",
    "    \n",
    "    # Calculate the percentage of movies and TV series\n",
    "    total_count = content_type_counts.sum()\n",
    "    content_type_percentage = (content_type_counts / total_count) * 100\n",
    "    \n",
    "    # Print results in percentage form\n",
    "    print(f\"\\n{platform_name} Breakdown:\")\n",
    "    for content_type, percentage in content_type_percentage.items():\n",
    "        print(f\"{content_type}: {percentage:.2f}%\")\n",
    "    \n",
    "    return content_type_percentage\n",
    "\n",
    "# Loop through platforms_df and calculate content type percentages for each platform\n",
    "for platform_name, platform_df in platforms_df.items():\n",
    "    calculate_and_print_content_type_percentage(platform_df, platform_name)"
   ]
  },
  {
   "cell_type": "code",
   "execution_count": 11,
   "metadata": {},
   "outputs": [
    {
     "name": "stdout",
     "output_type": "stream",
     "text": [
      "\n",
      "Amazon Breakdown:\n",
      "movie: 88.66%\n",
      "tv: 11.34%\n",
      "\n",
      "Apple Breakdown:\n",
      "movie: 78.94%\n",
      "tv: 21.06%\n",
      "\n",
      "HBO Breakdown:\n",
      "movie: 73.33%\n",
      "tv: 26.67%\n",
      "\n",
      "Hulu Breakdown:\n",
      "movie: 63.15%\n",
      "tv: 36.85%\n",
      "\n",
      "Netflix Breakdown:\n",
      "movie: 78.04%\n",
      "tv: 21.96%\n",
      "Saved visualization as PNG.\n"
     ]
    },
    {
     "data": {
      "image/png": "[encoded data removed]",
      "text/plain": [
       "<Figure size 1000x600 with 1 Axes>"
      ]
     },
     "metadata": {},
     "output_type": "display_data"
    }
   ],
   "source": [
    "# Initialize empty lists to store the platform names and percentages\n",
    "platform_names = []\n",
    "movie_percentages = []\n",
    "tv_percentages = []\n",
    "\n",
    "# Loop through each platform in the platforms_df dictionary and calculate the percentages\n",
    "for platform_name, platform_df in platforms_df.items():\n",
    "    content_type_percentage = calculate_and_print_content_type_percentage(platform_df, platform_name)\n",
    "    \n",
    "    # Append results to the lists\n",
    "    platform_names.append(platform_name)\n",
    "    movie_percentages.append(content_type_percentage.get('movie', 0))\n",
    "    tv_percentages.append(content_type_percentage.get('tv', 0))\n",
    "\n",
    "# Combine all results into a DataFrame for visualization\n",
    "content_type_comparison = pd.DataFrame({\n",
    "    'Platform': platform_names,\n",
    "    'Movie (%)': movie_percentages,\n",
    "    'TV (%)': tv_percentages\n",
    "})\n",
    "\n",
    "# Melt the DataFrame for visualization\n",
    "content_type_comparison_melted = content_type_comparison.melt(id_vars='Platform', var_name='Content Type', value_name='Percentage')\n",
    "\n",
    "# Plot the comparison\n",
    "plt.figure(figsize=(10, 6))\n",
    "sns.barplot(x='Platform', y='Percentage', hue='Content Type', data=content_type_comparison_melted)\n",
    "plt.title('Content Type Distribution by Platform')\n",
    "plt.ylabel('Percentage')\n",
    "plt.xlabel('Platform')\n",
    "plt.legend(title='Content Type', loc='upper right')\n",
    "\n",
    "# Format the y-axis to show percentages\n",
    "plt.gca().yaxis.set_major_formatter(PercentFormatter())\n",
    "\n",
    "# Save the plot as a PNG file after displaying it\n",
    "plt.savefig(r\"C:\\Users\\kimbe\\Documents\\StreamingAnalysis\\outputs\\Analyze Content Availability\\type_distribution_platform.png\", dpi=300)\n",
    "print(\"Saved visualization as PNG.\")\n",
    "\n",
    "# Display the plot\n",
    "plt.show()\n"
   ]
  },
  {
   "cell_type": "markdown",
   "metadata": {},
   "source": [
    "## Create a breakdown of content types (movies vs. TV series) 7.5 or higher rating"
   ]
  },
  {
   "cell_type": "code",
   "execution_count": 12,
   "metadata": {},
   "outputs": [],
   "source": [
    "# Function to calculate content type breakdown (movie vs tv) for content with averageRating >= 7.5\n",
    "def calculate_and_print_content_type_percentage_high_rating(platform_df, platform_name):\n",
    "    # Filter the DataFrame for content with rating >= 7.5\n",
    "    high_rating_df = platform_df[platform_df['averageRating'] >= 7.5]\n",
    "    \n",
    "    # Count the number of movies and TV series\n",
    "    content_type_counts = high_rating_df['type'].value_counts()\n",
    "    \n",
    "    # Calculate the percentage of movies and TV series\n",
    "    total_count = content_type_counts.sum()\n",
    "    content_type_percentage = (content_type_counts / total_count) * 100\n",
    "    \n",
    "    # Print results in percentage form\n",
    "    print(f\"{platform_name} Breakdown for ratings 7.5 or higher:\")\n",
    "    for content_type, percentage in content_type_percentage.items():\n",
    "        print(f\"{content_type}: {percentage:.2f}%\")\n",
    "    \n",
    "    return content_type_percentage\n"
   ]
  },
  {
   "cell_type": "code",
   "execution_count": 13,
   "metadata": {},
   "outputs": [
    {
     "name": "stdout",
     "output_type": "stream",
     "text": [
      "Amazon Breakdown for ratings 7.5 or higher:\n",
      "movie: 65.14%\n",
      "tv: 34.86%\n",
      "Apple Breakdown for ratings 7.5 or higher:\n",
      "movie: 50.00%\n",
      "tv: 50.00%\n",
      "HBO Breakdown for ratings 7.5 or higher:\n",
      "movie: 54.42%\n",
      "tv: 45.58%\n",
      "Hulu Breakdown for ratings 7.5 or higher:\n",
      "tv: 65.16%\n",
      "movie: 34.84%\n",
      "Netflix Breakdown for ratings 7.5 or higher:\n",
      "tv: 51.34%\n",
      "movie: 48.66%\n"
     ]
    }
   ],
   "source": [
    "# Initialize empty lists to store the platform names and percentages for high rating content\n",
    "platform_names_high_rating = []\n",
    "movie_percentages_high_rating = []\n",
    "tv_percentages_high_rating = []\n",
    "\n",
    "# Loop through each platform in the platforms_df dictionary and calculate the high rating percentages\n",
    "for platform_name, platform_df in platforms_df.items():\n",
    "    content_type_percentage_high_rating = calculate_and_print_content_type_percentage_high_rating(platform_df, platform_name)\n",
    "    \n",
    "    # Append results to the lists\n",
    "    platform_names_high_rating.append(platform_name)\n",
    "    movie_percentages_high_rating.append(content_type_percentage_high_rating.get('movie', 0))\n",
    "    tv_percentages_high_rating.append(content_type_percentage_high_rating.get('tv', 0))\n",
    "\n",
    "# Combine all results for high rating content into a DataFrame for visualization\n",
    "content_type_comparison_high_rating = pd.DataFrame({\n",
    "    'Platform': platform_names_high_rating,\n",
    "    'Movie (%)': movie_percentages_high_rating,\n",
    "    'TV (%)': tv_percentages_high_rating\n",
    "})"
   ]
  },
  {
   "cell_type": "code",
   "execution_count": 14,
   "metadata": {},
   "outputs": [
    {
     "name": "stdout",
     "output_type": "stream",
     "text": [
      "Saved visualization as PNG.\n"
     ]
    },
    {
     "data": {
      "image/png": "[encoded data removed]",
      "text/plain": [
       "<Figure size 1000x600 with 1 Axes>"
      ]
     },
     "metadata": {},
     "output_type": "display_data"
    }
   ],
   "source": [
    "# Melt the DataFrame for visualization\n",
    "content_type_comparison_high_rating_melted = content_type_comparison_high_rating.melt(id_vars='Platform', var_name='Content Type', value_name='Percentage')\n",
    "\n",
    "# Plot the comparison for content with ratings 7.5 or higher\n",
    "plt.figure(figsize=(10, 6))\n",
    "sns.barplot(x='Platform', y='Percentage', hue='Content Type', data=content_type_comparison_high_rating_melted)\n",
    "plt.title('Content Type Distribution (7.5 or higher rating) by Platform')\n",
    "plt.ylabel('Percentage')\n",
    "plt.xlabel('Platform')\n",
    "plt.legend(title='Content Type', loc='upper right')\n",
    "# Format the y-axis to show percentages\n",
    "plt.gca().yaxis.set_major_formatter(PercentFormatter())\n",
    "\n",
    "# Save the plot as a PNG file\n",
    "plt.savefig(r'C:\\Users\\kimbe\\Documents\\StreamingAnalysis\\outputs\\Analyze Content Availability\\type_distribution_platform_highRating.png', dpi=300)\n",
    "print(\"Saved visualization as PNG.\")\n",
    "\n",
    "\n",
    "plt.show()\n",
    "\n"
   ]
  },
  {
   "cell_type": "markdown",
   "metadata": {},
   "source": [
    "Add to comparison df"
   ]
  },
  {
   "cell_type": "code",
   "execution_count": 15,
   "metadata": {},
   "outputs": [
    {
     "name": "stdout",
     "output_type": "stream",
     "text": [
      "Updated Comparison DataFrame columns: Index(['Platform', 'Number of US Titles', 'US Percentage',\n",
      "       'High Rating Movie (%)', 'High Rating TV (%)'],\n",
      "      dtype='object')\n",
      "Updated Comparison DataFrame with high-rating content saved at: C:\\Users\\kimbe\\Documents\\StreamingAnalysis\\outputs\\comparison_data.csv\n"
     ]
    }
   ],
   "source": [
    "# Add a prefix to differentiate the high-rating content comparison columns\n",
    "content_type_comparison_high_rating.rename(columns={\n",
    "    'Movie (%)': 'High Rating Movie (%)',\n",
    "    'TV (%)': 'High Rating TV (%)'\n",
    "}, inplace=True)\n",
    "\n",
    "# Load the existing comparison DataFrame\n",
    "try:\n",
    "    comparison_df = pd.read_csv(r'C:\\Users\\kimbe\\Documents\\StreamingAnalysis\\outputs\\comparison_data.csv')\n",
    "except FileNotFoundError:\n",
    "    comparison_df = pd.DataFrame()\n",
    "\n",
    "# Remove any columns that start with 'Unnamed' to clean up the DataFrame\n",
    "comparison_df = comparison_df.loc[:, ~comparison_df.columns.str.contains('^Unnamed')]\n",
    "\n",
    "# Merge the high-rating percentages into the comparison DataFrame\n",
    "comparison_df = pd.merge(\n",
    "    comparison_df,\n",
    "    content_type_comparison_high_rating,\n",
    "    how='outer',  # Ensure all platforms are included\n",
    "    on='Platform'\n",
    ")\n",
    "\n",
    "# Drop duplicate columns if they exist after the merge\n",
    "comparison_df.drop(columns=[col for col in comparison_df.columns if col.endswith('_y')], inplace=True)\n",
    "\n",
    "# Rename the columns if necessary to avoid ambiguity\n",
    "comparison_df.rename(columns={\n",
    "    'High Rating Movie (%)_x': 'High Rating Movie (%)',\n",
    "    'High Rating TV (%)_x': 'High Rating TV (%)'\n",
    "}, inplace=True)\n",
    "\n",
    "# Format the columns as percentages (x.xx%)\n",
    "comparison_df['High Rating Movie (%)'] = comparison_df['High Rating Movie (%)'].apply(lambda x: f'{x:.2f}%')\n",
    "comparison_df['High Rating TV (%)'] = comparison_df['High Rating TV (%)'].apply(lambda x: f'{x:.2f}%')\n",
    "\n",
    "# Check if the new columns are successfully added and formatted\n",
    "print(\"Updated Comparison DataFrame columns:\", comparison_df.columns)\n",
    "\n",
    "# Save the updated comparison DataFrame\n",
    "comparison_path = r'C:\\Users\\kimbe\\Documents\\StreamingAnalysis\\outputs\\comparison_data.csv'\n",
    "comparison_df.to_csv(comparison_path, index=False)\n",
    "print(f\"Updated Comparison DataFrame with high-rating content saved at: {comparison_path}\")\n"
   ]
  },
  {
   "cell_type": "markdown",
   "metadata": {},
   "source": [
    "## Access to the top 25% most popular titles in IMDb catalog"
   ]
  },
  {
   "cell_type": "markdown",
   "metadata": {},
   "source": [
    "Determine what imdbId have the 25% highest numVotes and the 25% highest ratings in imdb_catalog_complete"
   ]
  },
  {
   "cell_type": "code",
   "execution_count": null,
   "metadata": {},
   "outputs": [],
   "source": []
  },
  {
   "cell_type": "code",
   "execution_count": 16,
   "metadata": {},
   "outputs": [],
   "source": [
    "# Sort by numVotes and get the top 25%\n",
    "numVotes_sorted = imdb_catalog_complete.sort_values(by='numVotes', ascending=False)\n",
    "top_25_percent_numVotes = numVotes_sorted.head(int(len(numVotes_sorted) * 0.25))\n",
    "\n",
    "# Sort by imdbAverageRating and get the top 25%\n",
    "rating_sorted = imdb_catalog_complete.sort_values(by='averageRating', ascending=False)\n",
    "top_25_percent_ratings = rating_sorted.head(int(len(rating_sorted) * 0.25))\n",
    "\n",
    "# Extract the imdbId for the top 25% based on numVotes and imdbAverageRating\n",
    "top_25_numVotes_imdbIds = top_25_percent_numVotes['imdbId']\n",
    "top_25_ratings_imdbIds = top_25_percent_ratings['imdbId']"
   ]
  },
  {
   "cell_type": "code",
   "execution_count": 17,
   "metadata": {},
   "outputs": [
    {
     "name": "stdout",
     "output_type": "stream",
     "text": [
      "Total top 25% by numVotes: 376687\n",
      "Total top 25% by averageRating: 376687\n"
     ]
    }
   ],
   "source": [
    "# Total number of titles in top 25% by numVotes\n",
    "total_top_25_numVotes = len(top_25_percent_numVotes)\n",
    "\n",
    "# Total number of titles in top 25% by averageRating\n",
    "total_top_25_ratings = len(top_25_percent_ratings)\n",
    "\n",
    "print(f\"Total top 25% by numVotes: {total_top_25_numVotes}\")\n",
    "print(f\"Total top 25% by averageRating: {total_top_25_ratings}\")\n"
   ]
  },
  {
   "cell_type": "markdown",
   "metadata": {},
   "source": [
    " ### Access to Top 25% Titles Based on numVotes"
   ]
  },
  {
   "cell_type": "code",
   "execution_count": 18,
   "metadata": {},
   "outputs": [
    {
     "name": "stdout",
     "output_type": "stream",
     "text": [
      "Amazon has 12.05% of the top 25% most popular titles based on numVotes.\n",
      "Apple has 3.59% of the top 25% most popular titles based on numVotes.\n",
      "HBO has 1.60% of the top 25% most popular titles based on numVotes.\n",
      "Hulu has 1.84% of the top 25% most popular titles based on numVotes.\n",
      "Netflix has 4.45% of the top 25% most popular titles based on numVotes.\n",
      "Saved numVotes access visualization as PNG.\n"
     ]
    },
    {
     "data": {
      "image/png": "[encoded data removed]",
      "text/plain": [
       "<Figure size 1000x600 with 1 Axes>"
      ]
     },
     "metadata": {},
     "output_type": "display_data"
    }
   ],
   "source": [
    "# Function to calculate the percentage of top 25% titles based on numVotes available on each platform\n",
    "def calculate_platform_access_to_top_25_numVotes(platform_df, top_25_numVotes_imdbIds, platform_name):\n",
    "    # Check how many titles in the platform DataFrame match the top 25% imdbIds (numVotes)\n",
    "    matched_titles = platform_df[platform_df['imdbId'].isin(top_25_numVotes_imdbIds)]\n",
    "    \n",
    "    # Calculate the percentage of top 25% titles available on the platform\n",
    "    total_top_25 = len(top_25_numVotes_imdbIds)\n",
    "    matched_titles_count = len(matched_titles)\n",
    "    percentage_access = (matched_titles_count / total_top_25) * 100\n",
    "    \n",
    "    # Print the results\n",
    "    print(f\"{platform_name} has {percentage_access:.2f}% of the top 25% most popular titles based on numVotes.\")\n",
    "    \n",
    "    return percentage_access\n",
    "\n",
    "# Dictionary to store the access percentages for numVotes\n",
    "platform_access_percentages_numVotes = {}\n",
    "\n",
    "# Loop through each platform and calculate access to the top 25% titles based on numVotes\n",
    "for platform_name, platform_df in platforms_df.items():\n",
    "    access_percentage_numVotes = calculate_platform_access_to_top_25_numVotes(platform_df, top_25_numVotes_imdbIds, platform_name)\n",
    "    platform_access_percentages_numVotes[f'{platform_name}_numVotes'] = access_percentage_numVotes\n",
    "\n",
    "# Prepare the data for visualization (numVotes access)\n",
    "access_data_numVotes = {\n",
    "    'Platform': [],\n",
    "    'Access to Top 25% (numVotes) (%)': []\n",
    "}\n",
    "\n",
    "# Loop through the platforms and populate the access_data dictionary for numVotes\n",
    "for platform_name in platforms_df.keys():\n",
    "    access_data_numVotes['Platform'].append(platform_name)\n",
    "    access_data_numVotes['Access to Top 25% (numVotes) (%)'].append(platform_access_percentages_numVotes[f'{platform_name}_numVotes'])\n",
    "\n",
    "# Create DataFrame from the access_data dictionary\n",
    "access_df_numVotes = pd.DataFrame(access_data_numVotes)\n",
    "\n",
    "# Plot the comparison for numVotes access\n",
    "plt.figure(figsize=(10, 6))\n",
    "sns.barplot(x='Platform', y='Access to Top 25% (numVotes) (%)', data=access_df_numVotes)\n",
    "plt.title('Access to Top 25% Most Popular Titles by Platform (Based on numVotes)')\n",
    "plt.ylabel('Access Percentage (%)')\n",
    "plt.xlabel('Platform')\n",
    "plt.xticks(rotation=45)\n",
    "\n",
    "# Format the y-axis to show percentages\n",
    "plt.gca().yaxis.set_major_formatter(PercentFormatter())\n",
    "\n",
    "plt.tight_layout()\n",
    "\n",
    "\n",
    "# Save the plot for numVotes access\n",
    "plt.savefig(r'C:\\Users\\kimbe\\Documents\\StreamingAnalysis\\outputs\\Analyze Content Availability\\access_to_top_25_percent_numVotes.png', dpi=300)\n",
    "print(\"Saved numVotes access visualization as PNG.\")\n",
    "\n",
    "plt.show()"
   ]
  },
  {
   "cell_type": "markdown",
   "metadata": {},
   "source": [
    "Add to comparison df"
   ]
  },
  {
   "cell_type": "code",
   "execution_count": 19,
   "metadata": {},
   "outputs": [
    {
     "name": "stdout",
     "output_type": "stream",
     "text": [
      "Index(['Platform', 'Number of US Titles', 'US Percentage',\n",
      "       'High Rating Movie (%)', 'High Rating TV (%)',\n",
      "       'Access to Top 25% Titles (numVotes) (%)'],\n",
      "      dtype='object')\n",
      "Updated Comparison DataFrame with numVotes access saved at: C:\\Users\\kimbe\\Documents\\StreamingAnalysis\\outputs\\comparison_data.csv\n"
     ]
    }
   ],
   "source": [
    "# Rename the column in access_df_numVotes for clarity\n",
    "access_df_numVotes.rename(columns={\n",
    "    'Access to Top 25% (numVotes) (%)': 'Access to Top 25% Titles (numVotes) (%)'\n",
    "}, inplace=True)\n",
    "\n",
    "# Merge the access_df_numVotes into the comparison DataFrame\n",
    "try:\n",
    "    # Load the existing comparison DataFrame\n",
    "    comparison_df = pd.read_csv(r'C:\\Users\\kimbe\\Documents\\StreamingAnalysis\\outputs\\comparison_data.csv')\n",
    "except FileNotFoundError:\n",
    "    # Create an empty comparison DataFrame if the file doesn't exist\n",
    "    comparison_df = pd.DataFrame()\n",
    "\n",
    "# Merge the data for numVotes access\n",
    "comparison_df = pd.merge(\n",
    "    comparison_df,\n",
    "    access_df_numVotes,\n",
    "    how='outer',  # Ensure all platforms are included\n",
    "    on='Platform'\n",
    ")\n",
    "\n",
    "# Check the column names in the merged DataFrame\n",
    "print(comparison_df.columns)\n",
    "\n",
    "# Format the percentage column by multiplying by 100 and adding the % sign\n",
    "if 'Access to Top 25% Titles (numVotes) (%)' in comparison_df.columns:\n",
    "    comparison_df['Access to Top 25% Titles (numVotes) (%)'] = comparison_df['Access to Top 25% Titles (numVotes) (%)'].apply(lambda x: f'{x:.2f}%')\n",
    "\n",
    "# Save the updated comparison DataFrame\n",
    "comparison_path = r'C:\\Users\\kimbe\\Documents\\StreamingAnalysis\\outputs\\comparison_data.csv'\n",
    "comparison_df.to_csv(comparison_path, index=False)\n",
    "print(f\"Updated Comparison DataFrame with numVotes access saved at: {comparison_path}\")\n",
    "\n"
   ]
  },
  {
   "cell_type": "markdown",
   "metadata": {},
   "source": [
    "### Access to Top 25% Titles Based on averageRating"
   ]
  },
  {
   "cell_type": "code",
   "execution_count": 20,
   "metadata": {},
   "outputs": [
    {
     "name": "stdout",
     "output_type": "stream",
     "text": [
      "Amazon has 0.94% of the top 25% most popular titles based on averageRating.\n",
      "Apple has 0.36% of the top 25% most popular titles based on averageRating.\n",
      "HBO has 0.19% of the top 25% most popular titles based on averageRating.\n",
      "Hulu has 0.20% of the top 25% most popular titles based on averageRating.\n",
      "Netflix has 0.35% of the top 25% most popular titles based on averageRating.\n",
      "Saved averageRating access visualization as PNG.\n"
     ]
    },
    {
     "data": {
      "image/png": "[encoded data removed]",
      "text/plain": [
       "<Figure size 1000x600 with 1 Axes>"
      ]
     },
     "metadata": {},
     "output_type": "display_data"
    }
   ],
   "source": [
    "# Function to calculate the percentage of top 25% titles based on averageRating available on each platform\n",
    "def calculate_platform_access_to_top_25_ratings(platform_df, top_25_ratings_imdbIds, platform_name):\n",
    "    # Check how many titles in the platform DataFrame match the top 25% imdbIds (averageRating)\n",
    "    matched_titles = platform_df[platform_df['imdbId'].isin(top_25_ratings_imdbIds)]\n",
    "    \n",
    "    # Calculate the percentage of top 25% titles available on the platform\n",
    "    total_top_25 = len(top_25_ratings_imdbIds)\n",
    "    matched_titles_count = len(matched_titles)\n",
    "    percentage_access = (matched_titles_count / total_top_25) * 100\n",
    "    \n",
    "    # Print the results\n",
    "    print(f\"{platform_name} has {percentage_access:.2f}% of the top 25% most popular titles based on averageRating.\")\n",
    "    \n",
    "    return percentage_access\n",
    "\n",
    "# Dictionary to store the access percentages for averageRating\n",
    "platform_access_percentages_ratings = {}\n",
    "\n",
    "# Loop through each platform and calculate access to the top 25% titles based on averageRating\n",
    "for platform_name, platform_df in platforms_df.items():\n",
    "    access_percentage_ratings = calculate_platform_access_to_top_25_ratings(platform_df, top_25_ratings_imdbIds, platform_name)\n",
    "    platform_access_percentages_ratings[f'{platform_name}_ratings'] = access_percentage_ratings\n",
    "\n",
    "# Prepare the data for visualization (averageRating access)\n",
    "access_data_averageRating = {\n",
    "    'Platform': [],\n",
    "    'Access to Top 25% (averageRating) (%)': []\n",
    "}\n",
    "\n",
    "# Loop through the platforms and populate the access_data dictionary for averageRating\n",
    "for platform_name in platforms_df.keys():\n",
    "    access_data_averageRating['Platform'].append(platform_name)\n",
    "    access_data_averageRating['Access to Top 25% (averageRating) (%)'].append(platform_access_percentages_ratings[f'{platform_name}_ratings'])\n",
    "\n",
    "# Create DataFrame from the access_data dictionary\n",
    "access_df_averageRating = pd.DataFrame(access_data_averageRating)\n",
    "\n",
    "# Plot the comparison for averageRating access\n",
    "plt.figure(figsize=(10, 6))\n",
    "sns.barplot(x='Platform', y='Access to Top 25% (averageRating) (%)', data=access_df_averageRating)\n",
    "plt.title('Access to Top 25% Most Popular Titles by Platform (Based on averageRating)')\n",
    "plt.ylabel('Access Percentage (%)')\n",
    "plt.xlabel('Platform')\n",
    "plt.xticks(rotation=45)\n",
    "\n",
    "# Format the y-axis to show percentages\n",
    "plt.gca().yaxis.set_major_formatter(PercentFormatter())\n",
    "\n",
    "plt.tight_layout()\n",
    "\n",
    "# Save the plot for averageRating access\n",
    "plt.savefig(r'C:\\Users\\kimbe\\Documents\\StreamingAnalysis\\outputs\\Analyze Content Availability\\access_to_top_25_percent_averageRating.png', dpi=300)\n",
    "print(\"Saved averageRating access visualization as PNG.\")\n",
    "\n",
    "plt.show()\n"
   ]
  },
  {
   "cell_type": "markdown",
   "metadata": {},
   "source": [
    "Add to comparison df"
   ]
  },
  {
   "cell_type": "code",
   "execution_count": 21,
   "metadata": {},
   "outputs": [
    {
     "name": "stdout",
     "output_type": "stream",
     "text": [
      "Updated Comparison DataFrame saved at: C:\\Users\\kimbe\\Documents\\StreamingAnalysis\\outputs\\comparison_data.csv\n"
     ]
    }
   ],
   "source": [
    "# Append the averageRating access results to the comparison DataFrame\n",
    "access_df_averageRating['Access to Top 25% (averageRating) (%)'] = access_df_averageRating[\n",
    "    'Access to Top 25% (averageRating) (%)'\n",
    "].apply(lambda x: f\"{x:.2f}%\" if not pd.isna(x) else \"\")\n",
    "\n",
    "# Merge the new results with the comparison DataFrame\n",
    "comparison_df = pd.merge(\n",
    "    comparison_df,\n",
    "    access_df_averageRating,\n",
    "    on='Platform',\n",
    "    how='outer'\n",
    ")\n",
    "\n",
    "# Save the updated comparison DataFrame\n",
    "comparison_path = r'C:\\Users\\kimbe\\Documents\\StreamingAnalysis\\outputs\\comparison_data.csv'\n",
    "comparison_df.to_csv(comparison_path, index=False)\n",
    "print(f\"Updated Comparison DataFrame saved at: {comparison_path}\")"
   ]
  },
  {
   "cell_type": "markdown",
   "metadata": {},
   "source": [
    "# Assess Content Quality"
   ]
  },
  {
   "cell_type": "markdown",
   "metadata": {},
   "source": [
    "## Calculate the Average IMDb Rating for Each Platform"
   ]
  },
  {
   "cell_type": "code",
   "execution_count": 22,
   "metadata": {},
   "outputs": [
    {
     "name": "stdout",
     "output_type": "stream",
     "text": [
      "Updated Comparison DataFrame with average IMDb ratings saved at: C:\\Users\\kimbe\\Documents\\StreamingAnalysis\\outputs\\comparison_data.csv\n"
     ]
    },
    {
     "data": {
      "image/png": "[encoded data removed]",
      "text/plain": [
       "<Figure size 640x480 with 1 Axes>"
      ]
     },
     "metadata": {},
     "output_type": "display_data"
    }
   ],
   "source": [
    "# Dictionary to store average ratings\n",
    "avg_ratings = {}\n",
    "\n",
    "# Loop through each platform in the dictionary\n",
    "for platform, df in platforms_df.items():\n",
    "    avg_rating = df['averageRating'].mean()\n",
    "    avg_ratings[platform] = avg_rating\n",
    "\n",
    "# Convert the avg_ratings dictionary to a DataFrame for easier merging\n",
    "avg_ratings_df = pd.DataFrame(list(avg_ratings.items()), columns=['Platform', 'Average IMDb Rating'])\n",
    "\n",
    "# Format the 'Average IMDb Rating' column to 2 decimal places\n",
    "avg_ratings_df['Average IMDb Rating'] = avg_ratings_df['Average IMDb Rating'].apply(lambda x: round(x, 2))\n",
    "\n",
    "# Merge the avg_ratings_df into the comparison DataFrame\n",
    "try:\n",
    "    # Load the existing comparison DataFrame\n",
    "    comparison_df = pd.read_csv(r'C:\\Users\\kimbe\\Documents\\StreamingAnalysis\\outputs\\comparison_data.csv')\n",
    "except FileNotFoundError:\n",
    "    # Create an empty comparison DataFrame if the file doesn't exist\n",
    "    comparison_df = pd.DataFrame()\n",
    "\n",
    "# Merge the data for average IMDb rating\n",
    "comparison_df = pd.merge(\n",
    "    comparison_df,\n",
    "    avg_ratings_df,\n",
    "    how='outer',  # Ensure all platforms are included\n",
    "    on='Platform'\n",
    ")\n",
    "\n",
    "# Save the updated comparison DataFrame\n",
    "comparison_path = r'C:\\Users\\kimbe\\Documents\\StreamingAnalysis\\outputs\\comparison_data.csv'\n",
    "comparison_df.to_csv(comparison_path, index=False)\n",
    "print(f\"Updated Comparison DataFrame with average IMDb ratings saved at: {comparison_path}\")\n",
    "\n",
    "# Plot the average IMDb ratings for each platform\n",
    "avg_ratings_df.plot(kind='bar', x='Platform', y='Average IMDb Rating', title='Average IMDb Ratings by Platform', legend=False)\n",
    "plt.ylabel('Average IMDb Rating')\n",
    "plt.xlabel('Platform')\n",
    "plt.tight_layout()\n",
    "\n",
    "# Save the plot as a PNG image\n",
    "plt.savefig(r\"C:\\Users\\kimbe\\Documents\\StreamingAnalysis\\outputs\\Assess Content Quality\\avg_ratings_comparison.png\")\n",
    "plt.show()\n",
    "\n"
   ]
  },
  {
   "cell_type": "markdown",
   "metadata": {},
   "source": [
    "## Percentages of titles in each quality category for each platform \n",
    "(top-rated, average-rated, bottom-rated)"
   ]
  },
  {
   "cell_type": "code",
   "execution_count": 23,
   "metadata": {},
   "outputs": [
    {
     "name": "stdout",
     "output_type": "stream",
     "text": [
      "Bottom 25% threshold (IMDb Rating): 6.2\n",
      "Top 25% threshold (IMDb Rating): 7.9\n"
     ]
    }
   ],
   "source": [
    "# Calculate the 25th and 75th percentiles for IMDb ratings\n",
    "bottom_25_threshold = imdb_catalog_complete['averageRating'].quantile(0.25)\n",
    "top_25_threshold = imdb_catalog_complete['averageRating'].quantile(0.75)\n",
    "\n",
    "# Print the thresholds for reference\n",
    "print(f\"Bottom 25% threshold (IMDb Rating): {bottom_25_threshold}\")\n",
    "print(f\"Top 25% threshold (IMDb Rating): {top_25_threshold}\")"
   ]
  },
  {
   "cell_type": "code",
   "execution_count": 24,
   "metadata": {},
   "outputs": [
    {
     "name": "stdout",
     "output_type": "stream",
     "text": [
      "Updated Comparison DataFrame with rating categories saved at: C:\\Users\\kimbe\\Documents\\StreamingAnalysis\\outputs\\comparison_data.csv\n"
     ]
    }
   ],
   "source": [
    "# Define function to categorize titles based on IMDb rating thresholds\n",
    "def categorize_titles_by_rating(df, top_25_threshold, bottom_25_threshold):\n",
    "    top_rated = df[df['averageRating'] >= top_25_threshold]\n",
    "    bottom_rated = df[df['averageRating'] <= bottom_25_threshold]\n",
    "    average_rated = df[(df['averageRating'] > bottom_25_threshold) & (df['averageRating'] < top_25_threshold)]\n",
    "    \n",
    "    return top_rated, average_rated, bottom_rated\n",
    "\n",
    "# Create a dictionary to store the classification percentages for each platform\n",
    "platform_quality_percentages = {}\n",
    "\n",
    "# Loop through each platform to classify titles and calculate percentages\n",
    "for platform_name, platform_df in platforms_df.items():\n",
    "    top_rated, average_rated, bottom_rated = categorize_titles_by_rating(\n",
    "        platform_df, top_25_threshold, bottom_25_threshold\n",
    "    )\n",
    "    \n",
    "    total_titles = len(platform_df)\n",
    "    top_rated_percent = (len(top_rated) / total_titles) * 100\n",
    "    average_rated_percent = (len(average_rated) / total_titles) * 100\n",
    "    bottom_rated_percent = (len(bottom_rated) / total_titles) * 100\n",
    "    \n",
    "    platform_quality_percentages[platform_name] = {\n",
    "        'Top Rated (%)': top_rated_percent,\n",
    "        'Average Rated (%)': average_rated_percent,\n",
    "        'Bottom Rated (%)': bottom_rated_percent\n",
    "    }\n",
    "\n",
    "# Convert dictionary to DataFrame\n",
    "quality_data = pd.DataFrame(platform_quality_percentages).T\n",
    "\n",
    "# Merge the new quality data into the comparison DataFrame\n",
    "try:\n",
    "    comparison_df = pd.read_csv(r'C:\\Users\\kimbe\\Documents\\StreamingAnalysis\\outputs\\comparison_data.csv')\n",
    "except FileNotFoundError:\n",
    "    comparison_df = pd.DataFrame()\n",
    "\n",
    "comparison_df = pd.merge(\n",
    "    comparison_df,\n",
    "    quality_data,\n",
    "    how='outer',  # Ensure all platforms are included\n",
    "    left_on='Platform',\n",
    "    right_index=True\n",
    ")\n",
    "\n",
    "# Format percentages as x.xx%\n",
    "comparison_df['Top Rated (%)'] = comparison_df['Top Rated (%)'].apply(lambda x: f'{x:.2f}%')\n",
    "comparison_df['Average Rated (%)'] = comparison_df['Average Rated (%)'].apply(lambda x: f'{x:.2f}%')\n",
    "comparison_df['Bottom Rated (%)'] = comparison_df['Bottom Rated (%)'].apply(lambda x: f'{x:.2f}%')\n",
    "\n",
    "# Save the updated comparison DataFrame\n",
    "comparison_path = r'C:\\Users\\kimbe\\Documents\\StreamingAnalysis\\outputs\\comparison_data.csv'\n",
    "comparison_df.to_csv(comparison_path, index=False)\n",
    "print(f\"Updated Comparison DataFrame with rating categories saved at: {comparison_path}\")"
   ]
  },
  {
   "cell_type": "code",
   "execution_count": null,
   "metadata": {},
   "outputs": [],
   "source": []
  },
  {
   "cell_type": "code",
   "execution_count": null,
   "metadata": {},
   "outputs": [],
   "source": []
  },
  {
   "cell_type": "code",
   "execution_count": null,
   "metadata": {},
   "outputs": [],
   "source": []
  }
 ],
 "metadata": {
  "kernelspec": {
   "display_name": "Env - StreamingAnalysis",
   "language": "python",
   "name": "python3"
  },
  "language_info": {
   "codemirror_mode": {
    "name": "ipython",
    "version": 3
   },
   "file_extension": ".py",
   "mimetype": "text/x-python",
   "name": "python",
   "nbconvert_exporter": "python",
   "pygments_lexer": "ipython3",
   "version": "3.13.1"
  }
 },
 "nbformat": 4,
 "nbformat_minor": 2
}
