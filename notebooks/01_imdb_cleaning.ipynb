{
 "cells": [
  {
   "cell_type": "markdown",
   "metadata": {},
   "source": [
    "# Summary"
   ]
  },
  {
   "cell_type": "markdown",
   "metadata": {},
   "source": [
    "The supplementary IMDb datasets were downloaded directly from IMDB. From the initial 7 datasets available on IMDb, these datasets complemented my project and will be able to expand on the main question\n",
    "\n",
    "[IMDb Data Files](https://datasets.imdbws.com/)\n",
    "\n",
    "The data that I was able to extract due to its usefulness is represented in the following columns:\n",
    "\n",
    "* title.basics.tsv.gz\n",
    "    * tconst (string) - alphanumeric unique identifier of the title\n",
    "    * primaryTitle (string) – the more popular title / the title used by the filmmakers on promotional materials at the point of release\n",
    "    * isAdult (boolean) - 0: non-adult title; 1: adult title\n",
    "    * runtimeMinutes – primary runtime of the title, in minutes\n",
    "    * genres (string array) – up to three genres associated with the title\n",
    "      \n",
    "* title.ratings.tsv.gz\n",
    "  \n",
    "    * tconst (string) - alphanumeric unique identifier of the title\n",
    "    * averageRating – weighted average of all the individual user ratings\n",
    "    * numVotes - number of votes the title has received"
   ]
  },
  {
   "cell_type": "markdown",
   "metadata": {},
   "source": [
    "# Imports"
   ]
  },
  {
   "cell_type": "code",
   "execution_count": 1,
   "metadata": {},
   "outputs": [],
   "source": [
    "# Import Libraries\n",
    "\n",
    "import pandas as pd\n",
    "import numpy as np\n",
    "import os\n"
   ]
  },
  {
   "cell_type": "markdown",
   "metadata": {},
   "source": [
    "# Load Datasets"
   ]
  },
  {
   "cell_type": "code",
   "execution_count": 2,
   "metadata": {},
   "outputs": [],
   "source": [
    "# Define the base path\n",
    "base_path = r\"C:\\Users\\kimbe\\Documents\\StreamingAnalysis\\data\\raw_data\"\n",
    "\n",
    "# Load the basics and ratings datasets\n",
    "basics_df = pd.read_csv(os.path.join(base_path, 'imdb_basics.csv'), na_values='\\\\N', low_memory=False)\n",
    "ratings_df = pd.read_csv(os.path.join(base_path, 'imdb_ratings.csv'), na_values='\\\\N', low_memory=False)"
   ]
  },
  {
   "cell_type": "markdown",
   "metadata": {},
   "source": [
    "# Custom Functions"
   ]
  },
  {
   "cell_type": "markdown",
   "metadata": {},
   "source": [
    "Display a table with the column name, datatype, a random non-null value, and the number of missing values for each column"
   ]
  },
  {
   "cell_type": "code",
   "execution_count": 3,
   "metadata": {},
   "outputs": [],
   "source": [
    "def summarize_columns(df):\n",
    "    summary = []\n",
    "    for column in df.columns:\n",
    "        column_dtype = df[column].dtype\n",
    "        \n",
    "        # Find a random row with no null values\n",
    "        non_null_rows = df.dropna()\n",
    "        random_row = non_null_rows.sample(1).iloc[0]\n",
    "        random_non_null_value = random_row[column]\n",
    "\n",
    "        missing_values_count = df[column].isnull().sum()\n",
    "        summary.append([column, column_dtype, random_non_null_value, missing_values_count])\n",
    "\n",
    "    summary_df = pd.DataFrame(summary, columns=['Column Name', 'Data Type', 'Random Non-Null Value', 'Missing Values Count'])\n",
    "    return summary_df"
   ]
  },
  {
   "cell_type": "code",
   "execution_count": 4,
   "metadata": {},
   "outputs": [],
   "source": [
    "def print_unique_values(df, column_name):\n",
    "  \"\"\"Prints all unique values in a specified column of a DataFrame.\n",
    "\n",
    "  Args:\n",
    "    df: The DataFrame to analyze.\n",
    "    column_name: The name of the column to check.\n",
    "  \"\"\"\n",
    "\n",
    "  unique_values = df[column_name].unique()\n",
    "  return unique_values"
   ]
  },
  {
   "cell_type": "markdown",
   "metadata": {},
   "source": [
    "## Clean IMDb datasets"
   ]
  },
  {
   "cell_type": "code",
   "execution_count": 5,
   "metadata": {},
   "outputs": [
    {
     "data": {
      "text/html": [
       "<div>\n",
       "<style scoped>\n",
       "    .dataframe tbody tr th:only-of-type {\n",
       "        vertical-align: middle;\n",
       "    }\n",
       "\n",
       "    .dataframe tbody tr th {\n",
       "        vertical-align: top;\n",
       "    }\n",
       "\n",
       "    .dataframe thead th {\n",
       "        text-align: right;\n",
       "    }\n",
       "</style>\n",
       "<table border=\"1\" class=\"dataframe\">\n",
       "  <thead>\n",
       "    <tr style=\"text-align: right;\">\n",
       "      <th></th>\n",
       "      <th>Column Name</th>\n",
       "      <th>Data Type</th>\n",
       "      <th>Random Non-Null Value</th>\n",
       "      <th>Missing Values Count</th>\n",
       "    </tr>\n",
       "  </thead>\n",
       "  <tbody>\n",
       "    <tr>\n",
       "      <th>0</th>\n",
       "      <td>tconst</td>\n",
       "      <td>object</td>\n",
       "      <td>tt0398567</td>\n",
       "      <td>0</td>\n",
       "    </tr>\n",
       "    <tr>\n",
       "      <th>1</th>\n",
       "      <td>titleType</td>\n",
       "      <td>object</td>\n",
       "      <td>tvSeries</td>\n",
       "      <td>0</td>\n",
       "    </tr>\n",
       "    <tr>\n",
       "      <th>2</th>\n",
       "      <td>primaryTitle</td>\n",
       "      <td>object</td>\n",
       "      <td>T.J. Hooker</td>\n",
       "      <td>19</td>\n",
       "    </tr>\n",
       "    <tr>\n",
       "      <th>3</th>\n",
       "      <td>originalTitle</td>\n",
       "      <td>object</td>\n",
       "      <td>Hayaller ve Hayatlar</td>\n",
       "      <td>19</td>\n",
       "    </tr>\n",
       "    <tr>\n",
       "      <th>4</th>\n",
       "      <td>isAdult</td>\n",
       "      <td>float64</td>\n",
       "      <td>0.0</td>\n",
       "      <td>1</td>\n",
       "    </tr>\n",
       "    <tr>\n",
       "      <th>5</th>\n",
       "      <td>startYear</td>\n",
       "      <td>float64</td>\n",
       "      <td>1990.0</td>\n",
       "      <td>1417203</td>\n",
       "    </tr>\n",
       "    <tr>\n",
       "      <th>6</th>\n",
       "      <td>endYear</td>\n",
       "      <td>float64</td>\n",
       "      <td>2004.0</td>\n",
       "      <td>11146045</td>\n",
       "    </tr>\n",
       "    <tr>\n",
       "      <th>7</th>\n",
       "      <td>runtimeMinutes</td>\n",
       "      <td>object</td>\n",
       "      <td>30</td>\n",
       "      <td>7715219</td>\n",
       "    </tr>\n",
       "    <tr>\n",
       "      <th>8</th>\n",
       "      <td>genres</td>\n",
       "      <td>object</td>\n",
       "      <td>Drama,Thriller</td>\n",
       "      <td>500750</td>\n",
       "    </tr>\n",
       "  </tbody>\n",
       "</table>\n",
       "</div>"
      ],
      "text/plain": [
       "      Column Name Data Type Random Non-Null Value  Missing Values Count\n",
       "0          tconst    object             tt0398567                     0\n",
       "1       titleType    object              tvSeries                     0\n",
       "2    primaryTitle    object           T.J. Hooker                    19\n",
       "3   originalTitle    object  Hayaller ve Hayatlar                    19\n",
       "4         isAdult   float64                   0.0                     1\n",
       "5       startYear   float64                1990.0               1417203\n",
       "6         endYear   float64                2004.0              11146045\n",
       "7  runtimeMinutes    object                    30               7715219\n",
       "8          genres    object        Drama,Thriller                500750"
      ]
     },
     "execution_count": 5,
     "metadata": {},
     "output_type": "execute_result"
    }
   ],
   "source": [
    "summary_table = summarize_columns(basics_df)\n",
    "summary_table"
   ]
  },
  {
   "cell_type": "code",
   "execution_count": 6,
   "metadata": {},
   "outputs": [
    {
     "data": {
      "text/plain": [
       "tconst                   0\n",
       "titleType                0\n",
       "primaryTitle            19\n",
       "originalTitle           19\n",
       "isAdult                  1\n",
       "startYear          1417203\n",
       "endYear           11146045\n",
       "runtimeMinutes     7715219\n",
       "genres              500750\n",
       "dtype: int64"
      ]
     },
     "execution_count": 6,
     "metadata": {},
     "output_type": "execute_result"
    }
   ],
   "source": [
    "# View Missing Values\n",
    "missing_values = basics_df.isnull().sum()\n",
    "missing_values"
   ]
  },
  {
   "cell_type": "code",
   "execution_count": 7,
   "metadata": {},
   "outputs": [
    {
     "data": {
      "text/html": [
       "<div>\n",
       "<style scoped>\n",
       "    .dataframe tbody tr th:only-of-type {\n",
       "        vertical-align: middle;\n",
       "    }\n",
       "\n",
       "    .dataframe tbody tr th {\n",
       "        vertical-align: top;\n",
       "    }\n",
       "\n",
       "    .dataframe thead th {\n",
       "        text-align: right;\n",
       "    }\n",
       "</style>\n",
       "<table border=\"1\" class=\"dataframe\">\n",
       "  <thead>\n",
       "    <tr style=\"text-align: right;\">\n",
       "      <th></th>\n",
       "      <th>imdbId</th>\n",
       "      <th>type</th>\n",
       "      <th>title</th>\n",
       "      <th>originalTitle</th>\n",
       "      <th>isAdult</th>\n",
       "      <th>startYear</th>\n",
       "      <th>endYear</th>\n",
       "      <th>runtimeMinutes</th>\n",
       "      <th>genres</th>\n",
       "      <th>averageRating</th>\n",
       "      <th>numVotes</th>\n",
       "    </tr>\n",
       "  </thead>\n",
       "  <tbody>\n",
       "    <tr>\n",
       "      <th>0</th>\n",
       "      <td>tt0000001</td>\n",
       "      <td>short</td>\n",
       "      <td>Carmencita</td>\n",
       "      <td>Carmencita</td>\n",
       "      <td>0.0</td>\n",
       "      <td>1894.0</td>\n",
       "      <td>NaN</td>\n",
       "      <td>1</td>\n",
       "      <td>Documentary,Short</td>\n",
       "      <td>5.7</td>\n",
       "      <td>2106</td>\n",
       "    </tr>\n",
       "    <tr>\n",
       "      <th>1</th>\n",
       "      <td>tt0000002</td>\n",
       "      <td>short</td>\n",
       "      <td>Le clown et ses chiens</td>\n",
       "      <td>Le clown et ses chiens</td>\n",
       "      <td>0.0</td>\n",
       "      <td>1892.0</td>\n",
       "      <td>NaN</td>\n",
       "      <td>5</td>\n",
       "      <td>Animation,Short</td>\n",
       "      <td>5.6</td>\n",
       "      <td>283</td>\n",
       "    </tr>\n",
       "    <tr>\n",
       "      <th>2</th>\n",
       "      <td>tt0000003</td>\n",
       "      <td>short</td>\n",
       "      <td>Poor Pierrot</td>\n",
       "      <td>Pauvre Pierrot</td>\n",
       "      <td>0.0</td>\n",
       "      <td>1892.0</td>\n",
       "      <td>NaN</td>\n",
       "      <td>5</td>\n",
       "      <td>Animation,Comedy,Romance</td>\n",
       "      <td>6.5</td>\n",
       "      <td>2128</td>\n",
       "    </tr>\n",
       "    <tr>\n",
       "      <th>3</th>\n",
       "      <td>tt0000004</td>\n",
       "      <td>short</td>\n",
       "      <td>Un bon bock</td>\n",
       "      <td>Un bon bock</td>\n",
       "      <td>0.0</td>\n",
       "      <td>1892.0</td>\n",
       "      <td>NaN</td>\n",
       "      <td>12</td>\n",
       "      <td>Animation,Short</td>\n",
       "      <td>5.4</td>\n",
       "      <td>182</td>\n",
       "    </tr>\n",
       "    <tr>\n",
       "      <th>4</th>\n",
       "      <td>tt0000005</td>\n",
       "      <td>short</td>\n",
       "      <td>Blacksmith Scene</td>\n",
       "      <td>Blacksmith Scene</td>\n",
       "      <td>0.0</td>\n",
       "      <td>1893.0</td>\n",
       "      <td>NaN</td>\n",
       "      <td>1</td>\n",
       "      <td>Comedy,Short</td>\n",
       "      <td>6.2</td>\n",
       "      <td>2859</td>\n",
       "    </tr>\n",
       "  </tbody>\n",
       "</table>\n",
       "</div>"
      ],
      "text/plain": [
       "      imdbId   type                   title           originalTitle  isAdult  \\\n",
       "0  tt0000001  short              Carmencita              Carmencita      0.0   \n",
       "1  tt0000002  short  Le clown et ses chiens  Le clown et ses chiens      0.0   \n",
       "2  tt0000003  short            Poor Pierrot          Pauvre Pierrot      0.0   \n",
       "3  tt0000004  short             Un bon bock             Un bon bock      0.0   \n",
       "4  tt0000005  short        Blacksmith Scene        Blacksmith Scene      0.0   \n",
       "\n",
       "   startYear  endYear runtimeMinutes                    genres  averageRating  \\\n",
       "0     1894.0      NaN              1         Documentary,Short            5.7   \n",
       "1     1892.0      NaN              5           Animation,Short            5.6   \n",
       "2     1892.0      NaN              5  Animation,Comedy,Romance            6.5   \n",
       "3     1892.0      NaN             12           Animation,Short            5.4   \n",
       "4     1893.0      NaN              1              Comedy,Short            6.2   \n",
       "\n",
       "   numVotes  \n",
       "0      2106  \n",
       "1       283  \n",
       "2      2128  \n",
       "3       182  \n",
       "4      2859  "
      ]
     },
     "execution_count": 7,
     "metadata": {},
     "output_type": "execute_result"
    }
   ],
   "source": [
    "# Combine and rename\n",
    "imdb_info = pd.merge(basics_df, ratings_df, on='tconst', how='inner')\n",
    "imdb_info.rename(columns={\"tconst\": \"imdbId\", \"primaryTitle\": \"title\", \"titleType\": \"type\"}, inplace=True)\n",
    "imdb_info.head()"
   ]
  },
  {
   "cell_type": "code",
   "execution_count": 8,
   "metadata": {},
   "outputs": [
    {
     "data": {
      "text/plain": [
       "imdbId                  0\n",
       "type                    0\n",
       "title                   1\n",
       "originalTitle           1\n",
       "isAdult                 0\n",
       "startYear             246\n",
       "endYear           1448495\n",
       "runtimeMinutes     450199\n",
       "genres              21466\n",
       "averageRating           0\n",
       "numVotes                0\n",
       "dtype: int64"
      ]
     },
     "execution_count": 8,
     "metadata": {},
     "output_type": "execute_result"
    }
   ],
   "source": [
    "missing_values = imdb_info.isnull().sum()\n",
    "missing_values"
   ]
  },
  {
   "cell_type": "code",
   "execution_count": 9,
   "metadata": {},
   "outputs": [
    {
     "name": "stdout",
     "output_type": "stream",
     "text": [
      "NaN values in each column:\n",
      "imdbId                  0\n",
      "type                    0\n",
      "title                   1\n",
      "originalTitle           1\n",
      "isAdult                 0\n",
      "startYear             246\n",
      "endYear           1448495\n",
      "runtimeMinutes     450199\n",
      "genres              21466\n",
      "averageRating           0\n",
      "numVotes                0\n",
      "dtype: int64\n",
      "Infinite values in each column:\n",
      "imdbId            0\n",
      "type              0\n",
      "title             0\n",
      "originalTitle     0\n",
      "isAdult           0\n",
      "startYear         0\n",
      "endYear           0\n",
      "runtimeMinutes    0\n",
      "genres            0\n",
      "averageRating     0\n",
      "numVotes          0\n",
      "dtype: int64\n"
     ]
    }
   ],
   "source": [
    "# Check for NaN values in imdb_info\n",
    "nan_values = imdb_info.isna().sum()\n",
    "\n",
    "# Check for infinite values in imdb_info\n",
    "inf_values = (imdb_info == float('inf')).sum() + (imdb_info == float('-inf')).sum()\n",
    "\n",
    "# Print the results\n",
    "print(f\"NaN values in each column:\\n{nan_values}\")\n",
    "print(f\"Infinite values in each column:\\n{inf_values}\")"
   ]
  },
  {
   "cell_type": "code",
   "execution_count": 10,
   "metadata": {},
   "outputs": [
    {
     "name": "stdout",
     "output_type": "stream",
     "text": [
      "Original IMDb info rows: 1506750\n",
      "Filtered IMDb info rows: 89159\n",
      "Filtered IMDb info saved as CSV.\n"
     ]
    }
   ],
   "source": [
    "# Load the saved IMDb IDs from platforms cleaning\n",
    "imdb_ids_path = r'C:\\Users\\kimbe\\Documents\\StreamingAnalysis\\data\\imdb_ids_in_platforms.csv'\n",
    "imdb_ids_in_platforms = pd.read_csv(imdb_ids_path)\n",
    "\n",
    "# Extract the unique IMDb IDs as a list or array\n",
    "imdb_ids_list = imdb_ids_in_platforms['imdbId'].unique()\n",
    "\n",
    "# Assuming imdb_info is already loaded in this notebook\n",
    "filtered_imdb_info = imdb_info[imdb_info['imdbId'].isin(imdb_ids_list)].reset_index(drop=True)\n",
    "\n",
    "# Print summary\n",
    "print(f\"Original IMDb info rows: {len(imdb_info)}\")\n",
    "print(f\"Filtered IMDb info rows: {len(filtered_imdb_info)}\")\n",
    "\n",
    "# Save the filtered IMDb info DataFrame for further processing\n",
    "filtered_imdb_info.to_csv(r'C:\\Users\\kimbe\\Documents\\StreamingAnalysis\\data\\filtered_imdb_info.csv', index=False)\n",
    "print(\"Filtered IMDb info saved as CSV.\")"
   ]
  },
  {
   "cell_type": "code",
   "execution_count": null,
   "metadata": {},
   "outputs": [],
   "source": []
  },
  {
   "cell_type": "code",
   "execution_count": null,
   "metadata": {},
   "outputs": [],
   "source": []
  },
  {
   "cell_type": "code",
   "execution_count": null,
   "metadata": {},
   "outputs": [],
   "source": []
  },
  {
   "cell_type": "code",
   "execution_count": null,
   "metadata": {},
   "outputs": [],
   "source": []
  },
  {
   "cell_type": "code",
   "execution_count": null,
   "metadata": {},
   "outputs": [],
   "source": [
    "# Filter the combined IMDb DataFrame to include only the imdbIds that are in the platforms\n",
    "#filtered_imdb_info= imdb_info[imdb_info['imdbId'].isin(all_platform_imdb_ids)]\n",
    "\n",
    "# Display the resulting DataFrame\n",
    "#print(f\"Filtered IMDb DataFrame Shape: {filtered_imdb_info.shape}\")\n",
    "#filtered_imdb_info.head()"
   ]
  },
  {
   "cell_type": "code",
   "execution_count": null,
   "metadata": {},
   "outputs": [],
   "source": [
    "# Check the minimum and maximum of IMDb's average ratings\n",
    "#print(filtered_imdb_info['averageRating'].min())\n",
    "#print(filtered_imdb_info['averageRating'].max())\n"
   ]
  },
  {
   "cell_type": "code",
   "execution_count": null,
   "metadata": {},
   "outputs": [],
   "source": []
  },
  {
   "cell_type": "code",
   "execution_count": null,
   "metadata": {},
   "outputs": [],
   "source": []
  },
  {
   "cell_type": "code",
   "execution_count": null,
   "metadata": {},
   "outputs": [],
   "source": [
    "# Drop isAdult as it is inaccurate.\n",
    "#imdb_info = imdb_info.drop(columns=['isAdult'])\n",
    "\n",
    "# Drop endYear \n",
    "#imdb_info = imdb_info.drop(columns=['endYear'])\n",
    "\n",
    "# Drop originalTitle\n",
    "#imdb_info = imdb_info.drop(columns=['originalTitle'])\n",
    "\n",
    "# Drop runTime\n",
    "#imdb_info = imdb_info.drop(columns=['runtimeMinutes'])\n",
    "\n",
    "# Drop startYear\n",
    "#imdb_info = imdb_info.drop(columns=['startYear'])"
   ]
  }
 ],
 "metadata": {
  "kernelspec": {
   "display_name": "Env - StreamingAnalysis",
   "language": "python",
   "name": "python3"
  },
  "language_info": {
   "codemirror_mode": {
    "name": "ipython",
    "version": 3
   },
   "file_extension": ".py",
   "mimetype": "text/x-python",
   "name": "python",
   "nbconvert_exporter": "python",
   "pygments_lexer": "ipython3",
   "version": "3.13.1"
  }
 },
 "nbformat": 4,
 "nbformat_minor": 2
}
