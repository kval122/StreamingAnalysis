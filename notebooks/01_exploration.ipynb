{
 "cells": [
  {
   "cell_type": "markdown",
   "metadata": {},
   "source": [
    "# Introduction "
   ]
  },
  {
   "cell_type": "markdown",
   "metadata": {},
   "source": [
    "The '01_exploration.ipynb notebook' serves as the foundation for understanding the data landscape of streaming platforms and imdb supplemental data in this project. It focuses on exploring and analyzing the structure, content, and quality of datasets collected from multiple sources.\n",
    "\n",
    "### Exploration Goals\n",
    "* Understand the structure of each dataset.\n",
    "* Identify potential issues (e.g., missing values, duplicates, outliers).\n",
    "* Generate summary statistics to get an overview.\n",
    "* Visualize initial trends (e.g., genre distribution, ratings)."
   ]
  },
  {
   "cell_type": "markdown",
   "metadata": {},
   "source": [
    "## Datasets Overview"
   ]
  },
  {
   "cell_type": "markdown",
   "metadata": {},
   "source": [
    "This project utilizes five datasets from Kaggle, providing comprehensive information on popular streaming platforms and IMDb ratings. Each dataset is updated daily, ensuring accurate and relevant content.\n",
    "\n",
    "1. **Netflix**\n",
    "\n",
    "    * Source: [Netflix Movies & TV Series Dataset](https://www.kaggle.com/datasets/octopusteam/full-netflix-dataset)\n",
    "    * **Description**: A complete collection of Netflix's available titles (movies and TV series) with IMDb-specific data such as IMDb ID, average rating, and number of votes.\n",
    "\n",
    "2. **Apple TV+**\n",
    "\n",
    "    * Source: [Full Apple TV+ Dataset](https://www.kaggle.com/datasets/octopusteam/full-apple-tv-dataset)\n",
    "    * Description: A dataset covering all Apple TV+ titles, including key IMDb data for in-depth analysis of content quality.\n",
    "\n",
    "3. **HBO Max**\n",
    "\n",
    "    * Source:  [Full HBO Max Dataset](https://www.kaggle.com/datasets/octopusteam/full-hbo-max-dataset)\n",
    "    * Description: An extensive collection of titles on HBO Max with associated IMDb data for comparison.\n",
    "\n",
    "3. **Amazon Prime**\n",
    "\n",
    "   * Source: [Full Amazon Prime Dataset](https://www.kaggle.com/datasets/octopusteam/full-amazon-prime-dataset)\n",
    "    * Description: Comprehensive data on Amazon Prime's movie and TV series offerings, including IMDb-specific metrics.\n",
    "\n",
    "4. **Hulu**\n",
    "\n",
    "    * Source: [Full Hulu Dataset](https://www.kaggle.com/datasets/octopusteam/full-hulu-dataset)\n",
    "    * Description: A dataset detailing Hulu's catalog with IMDb-related columns for evaluating content quality and popularity.\n",
    "\n",
    "Each of the streaming platform datasets includes the following columns:\n",
    "\n",
    "* **title**: Name of the content.\n",
    "* **type**: Either \"movie\" or \"tv series.\"\n",
    "* **genres**: Genres associated with the title.\n",
    "* **releaseYear**: Year the title was released.\n",
    "* **imdbId**: Unique IMDb identifier.\n",
    "* **imdbAverageRating**: Average user rating on IMDb.\n",
    "* **imdbNumVotes**: Number of votes received on IMDb.\n",
    "* **availableCountries**: Countries where the title is available."
   ]
  },
  {
   "cell_type": "markdown",
   "metadata": {},
   "source": [
    "Additionally, the supplementary IMDb datasets were downloaded directly from IMDB. From the initial 7 datasets available on IMDb, these datasets complemented my project and will be able to expand on the main question\n",
    "\n",
    "[IMDb Data Files](https://datasets.imdbws.com/)\n",
    "\n",
    "The data that I was able to extract due to its usefulness is represented in the following columns:\n",
    "\n",
    "* title.basics.tsv.gz\n",
    "    * tconst (string) - alphanumeric unique identifier of the title\n",
    "    * primaryTitle (string) – the more popular title / the title used by the filmmakers on promotional materials at the point of release\n",
    "    * isAdult (boolean) - 0: non-adult title; 1: adult title\n",
    "    * runtimeMinutes – primary runtime of the title, in minutes\n",
    "    * genres (string array) – up to three genres associated with the title\n",
    "      \n",
    "* title.ratings.tsv.gz\n",
    "  \n",
    "    * tconst (string) - alphanumeric unique identifier of the title\n",
    "    * averageRating – weighted average of all the individual user ratings\n",
    "    * numVotes - number of votes the title has received"
   ]
  },
  {
   "cell_type": "markdown",
   "metadata": {},
   "source": [
    "This initial exploration will set the stage for more advanced analyses, such as clustering, statistical comparisons, and the evaluation of platform value."
   ]
  },
  {
   "cell_type": "markdown",
   "metadata": {},
   "source": []
  }
 ],
 "metadata": {
  "kernelspec": {
   "display_name": "capstone",
   "language": "python",
   "name": "python3"
  },
  "language_info": {
   "name": "python",
   "version": "3.12.4"
  }
 },
 "nbformat": 4,
 "nbformat_minor": 2
}
